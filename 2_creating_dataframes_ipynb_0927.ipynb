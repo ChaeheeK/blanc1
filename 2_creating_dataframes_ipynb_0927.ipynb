{
  "cells": [
    {
      "cell_type": "markdown",
      "metadata": {
        "id": "view-in-github",
        "colab_type": "text"
      },
      "source": [
        "<a href=\"https://colab.research.google.com/github/ChaeheeK/blanc1/blob/main/2_creating_dataframes_ipynb_0927.ipynb\" target=\"_parent\"><img src=\"https://colab.research.google.com/assets/colab-badge.svg\" alt=\"Open In Colab\"/></a>"
      ]
    },
    {
      "cell_type": "markdown",
      "metadata": {
        "id": "EEU0rv33_7np"
      },
      "source": [
        "# Creating DataFrames\n",
        "We will create `DataFrame` objects from other data structures in Python, by reading in a CSV file, and by querying a database.\n",
        "\n",
        "## About the Data\n",
        "In this notebook, we will be working with earthquake data from September 18, 2018 - October 13, 2018 (obtained from the US Geological Survey (USGS) using the [USGS API](https://earthquake.usgs.gov/fdsnws/event/1/))\n",
        "\n",
        "## Imports"
      ]
    },
    {
      "cell_type": "code",
      "source": [
        "from google.colab import drive\n",
        "drive.mount('/content/drive')"
      ],
      "metadata": {
        "id": "A6KVZ3-1STEY",
        "outputId": "3caba12c-6806-46a2-f663-02cab20e8a61",
        "colab": {
          "base_uri": "https://localhost:8080/"
        }
      },
      "execution_count": 2,
      "outputs": [
        {
          "output_type": "stream",
          "name": "stdout",
          "text": [
            "Mounted at /content/drive\n"
          ]
        }
      ]
    },
    {
      "cell_type": "code",
      "source": [
        "cd /content/drive/MyDrive/Hands-On-Data-Analysis-with-Pandas-2nd-edition/ch_02/"
      ],
      "metadata": {
        "id": "T-4tBUIFTeRT",
        "outputId": "70579745-de24-4c92-e034-f6a8be8946fe",
        "colab": {
          "base_uri": "https://localhost:8080/"
        }
      },
      "execution_count": 3,
      "outputs": [
        {
          "output_type": "stream",
          "name": "stdout",
          "text": [
            "/content/drive/MyDrive/Hands-On-Data-Analysis-with-Pandas-2nd-edition/ch_02\n"
          ]
        }
      ]
    },
    {
      "cell_type": "code",
      "execution_count": 9,
      "metadata": {
        "id": "5MAsiBs7_7nw"
      },
      "outputs": [],
      "source": [
        "import datetime as dt\n",
        "import numpy as np\n",
        "import pandas as pd"
      ]
    },
    {
      "cell_type": "code",
      "source": [
        "!wc - !earthquake.csv"
      ],
      "metadata": {
        "id": "UeWZPRwYTVAE",
        "colab": {
          "base_uri": "https://localhost:8080/"
        },
        "outputId": "919b9ad0-13a9-4f8a-c68c-f8ce6fa9e823"
      },
      "execution_count": 4,
      "outputs": [
        {
          "output_type": "stream",
          "name": "stdout",
          "text": [
            "^C\n"
          ]
        }
      ]
    },
    {
      "cell_type": "markdown",
      "metadata": {
        "id": "KgekQzps_7nz"
      },
      "source": [
        "## Creating a `Series` object"
      ]
    },
    {
      "cell_type": "code",
      "execution_count": 10,
      "metadata": {
        "id": "voGPoIdw_7nz",
        "outputId": "09f68eee-c5b9-4f9e-c372-f45747469cd6",
        "colab": {
          "base_uri": "https://localhost:8080/"
        }
      },
      "outputs": [
        {
          "output_type": "execute_result",
          "data": {
            "text/plain": [
              "0    0.548814\n",
              "1    0.715189\n",
              "2    0.602763\n",
              "3    0.544883\n",
              "4    0.423655\n",
              "Name: random, dtype: float64"
            ]
          },
          "metadata": {},
          "execution_count": 10
        }
      ],
      "source": [
        "np.random.seed(0) # set a seed for reproducibility\n",
        "pd.Series(np.random.rand(5), name='random')"
      ]
    },
    {
      "cell_type": "markdown",
      "metadata": {
        "id": "6uuzGwkb_7n1"
      },
      "source": [
        "## Creating a `DataFrame` object from a `Series` object\n",
        "Use the `to_frame()` method:"
      ]
    },
    {
      "cell_type": "code",
      "execution_count": 11,
      "metadata": {
        "id": "Rh61ubT-_7n2",
        "outputId": "baeb29ca-c3f5-4d03-e204-c4a05d4d4d31",
        "colab": {
          "base_uri": "https://localhost:8080/",
          "height": 1003
        }
      },
      "outputs": [
        {
          "output_type": "execute_result",
          "data": {
            "text/plain": [
              "      0\n",
              "0   0.0\n",
              "1   2.5\n",
              "2   5.0\n",
              "3   7.5\n",
              "4  10.0"
            ],
            "text/html": [
              "\n",
              "  <div id=\"df-8ffe3734-a46e-4ba7-88ac-aab0c56f2cd7\" class=\"colab-df-container\">\n",
              "    <div>\n",
              "<style scoped>\n",
              "    .dataframe tbody tr th:only-of-type {\n",
              "        vertical-align: middle;\n",
              "    }\n",
              "\n",
              "    .dataframe tbody tr th {\n",
              "        vertical-align: top;\n",
              "    }\n",
              "\n",
              "    .dataframe thead th {\n",
              "        text-align: right;\n",
              "    }\n",
              "</style>\n",
              "<table border=\"1\" class=\"dataframe\">\n",
              "  <thead>\n",
              "    <tr style=\"text-align: right;\">\n",
              "      <th></th>\n",
              "      <th>0</th>\n",
              "    </tr>\n",
              "  </thead>\n",
              "  <tbody>\n",
              "    <tr>\n",
              "      <th>0</th>\n",
              "      <td>0.0</td>\n",
              "    </tr>\n",
              "    <tr>\n",
              "      <th>1</th>\n",
              "      <td>2.5</td>\n",
              "    </tr>\n",
              "    <tr>\n",
              "      <th>2</th>\n",
              "      <td>5.0</td>\n",
              "    </tr>\n",
              "    <tr>\n",
              "      <th>3</th>\n",
              "      <td>7.5</td>\n",
              "    </tr>\n",
              "    <tr>\n",
              "      <th>4</th>\n",
              "      <td>10.0</td>\n",
              "    </tr>\n",
              "  </tbody>\n",
              "</table>\n",
              "</div>\n",
              "    <div class=\"colab-df-buttons\">\n",
              "\n",
              "  <div class=\"colab-df-container\">\n",
              "    <button class=\"colab-df-convert\" onclick=\"convertToInteractive('df-8ffe3734-a46e-4ba7-88ac-aab0c56f2cd7')\"\n",
              "            title=\"Convert this dataframe to an interactive table.\"\n",
              "            style=\"display:none;\">\n",
              "\n",
              "  <svg xmlns=\"http://www.w3.org/2000/svg\" height=\"24px\" viewBox=\"0 -960 960 960\">\n",
              "    <path d=\"M120-120v-720h720v720H120Zm60-500h600v-160H180v160Zm220 220h160v-160H400v160Zm0 220h160v-160H400v160ZM180-400h160v-160H180v160Zm440 0h160v-160H620v160ZM180-180h160v-160H180v160Zm440 0h160v-160H620v160Z\"/>\n",
              "  </svg>\n",
              "    </button>\n",
              "\n",
              "  <style>\n",
              "    .colab-df-container {\n",
              "      display:flex;\n",
              "      gap: 12px;\n",
              "    }\n",
              "\n",
              "    .colab-df-convert {\n",
              "      background-color: #E8F0FE;\n",
              "      border: none;\n",
              "      border-radius: 50%;\n",
              "      cursor: pointer;\n",
              "      display: none;\n",
              "      fill: #1967D2;\n",
              "      height: 32px;\n",
              "      padding: 0 0 0 0;\n",
              "      width: 32px;\n",
              "    }\n",
              "\n",
              "    .colab-df-convert:hover {\n",
              "      background-color: #E2EBFA;\n",
              "      box-shadow: 0px 1px 2px rgba(60, 64, 67, 0.3), 0px 1px 3px 1px rgba(60, 64, 67, 0.15);\n",
              "      fill: #174EA6;\n",
              "    }\n",
              "\n",
              "    .colab-df-buttons div {\n",
              "      margin-bottom: 4px;\n",
              "    }\n",
              "\n",
              "    [theme=dark] .colab-df-convert {\n",
              "      background-color: #3B4455;\n",
              "      fill: #D2E3FC;\n",
              "    }\n",
              "\n",
              "    [theme=dark] .colab-df-convert:hover {\n",
              "      background-color: #434B5C;\n",
              "      box-shadow: 0px 1px 3px 1px rgba(0, 0, 0, 0.15);\n",
              "      filter: drop-shadow(0px 1px 2px rgba(0, 0, 0, 0.3));\n",
              "      fill: #FFFFFF;\n",
              "    }\n",
              "  </style>\n",
              "\n",
              "    <script>\n",
              "      const buttonEl =\n",
              "        document.querySelector('#df-8ffe3734-a46e-4ba7-88ac-aab0c56f2cd7 button.colab-df-convert');\n",
              "      buttonEl.style.display =\n",
              "        google.colab.kernel.accessAllowed ? 'block' : 'none';\n",
              "\n",
              "      async function convertToInteractive(key) {\n",
              "        const element = document.querySelector('#df-8ffe3734-a46e-4ba7-88ac-aab0c56f2cd7');\n",
              "        const dataTable =\n",
              "          await google.colab.kernel.invokeFunction('convertToInteractive',\n",
              "                                                    [key], {});\n",
              "        if (!dataTable) return;\n",
              "\n",
              "        const docLinkHtml = 'Like what you see? Visit the ' +\n",
              "          '<a target=\"_blank\" href=https://colab.research.google.com/notebooks/data_table.ipynb>data table notebook</a>'\n",
              "          + ' to learn more about interactive tables.';\n",
              "        element.innerHTML = '';\n",
              "        dataTable['output_type'] = 'display_data';\n",
              "        await google.colab.output.renderOutput(dataTable, element);\n",
              "        const docLink = document.createElement('div');\n",
              "        docLink.innerHTML = docLinkHtml;\n",
              "        element.appendChild(docLink);\n",
              "      }\n",
              "    </script>\n",
              "  </div>\n",
              "\n",
              "\n",
              "<div id=\"df-26d5027b-da14-4589-af99-dd8ba210b666\">\n",
              "  <button class=\"colab-df-quickchart\" onclick=\"quickchart('df-26d5027b-da14-4589-af99-dd8ba210b666')\"\n",
              "            title=\"Suggest charts.\"\n",
              "            style=\"display:none;\">\n",
              "\n",
              "<svg xmlns=\"http://www.w3.org/2000/svg\" height=\"24px\"viewBox=\"0 0 24 24\"\n",
              "     width=\"24px\">\n",
              "    <g>\n",
              "        <path d=\"M19 3H5c-1.1 0-2 .9-2 2v14c0 1.1.9 2 2 2h14c1.1 0 2-.9 2-2V5c0-1.1-.9-2-2-2zM9 17H7v-7h2v7zm4 0h-2V7h2v10zm4 0h-2v-4h2v4z\"/>\n",
              "    </g>\n",
              "</svg>\n",
              "  </button>\n",
              "\n",
              "<style>\n",
              "  .colab-df-quickchart {\n",
              "      --bg-color: #E8F0FE;\n",
              "      --fill-color: #1967D2;\n",
              "      --hover-bg-color: #E2EBFA;\n",
              "      --hover-fill-color: #174EA6;\n",
              "      --disabled-fill-color: #AAA;\n",
              "      --disabled-bg-color: #DDD;\n",
              "  }\n",
              "\n",
              "  [theme=dark] .colab-df-quickchart {\n",
              "      --bg-color: #3B4455;\n",
              "      --fill-color: #D2E3FC;\n",
              "      --hover-bg-color: #434B5C;\n",
              "      --hover-fill-color: #FFFFFF;\n",
              "      --disabled-bg-color: #3B4455;\n",
              "      --disabled-fill-color: #666;\n",
              "  }\n",
              "\n",
              "  .colab-df-quickchart {\n",
              "    background-color: var(--bg-color);\n",
              "    border: none;\n",
              "    border-radius: 50%;\n",
              "    cursor: pointer;\n",
              "    display: none;\n",
              "    fill: var(--fill-color);\n",
              "    height: 32px;\n",
              "    padding: 0;\n",
              "    width: 32px;\n",
              "  }\n",
              "\n",
              "  .colab-df-quickchart:hover {\n",
              "    background-color: var(--hover-bg-color);\n",
              "    box-shadow: 0 1px 2px rgba(60, 64, 67, 0.3), 0 1px 3px 1px rgba(60, 64, 67, 0.15);\n",
              "    fill: var(--button-hover-fill-color);\n",
              "  }\n",
              "\n",
              "  .colab-df-quickchart-complete:disabled,\n",
              "  .colab-df-quickchart-complete:disabled:hover {\n",
              "    background-color: var(--disabled-bg-color);\n",
              "    fill: var(--disabled-fill-color);\n",
              "    box-shadow: none;\n",
              "  }\n",
              "\n",
              "  .colab-df-spinner {\n",
              "    border: 2px solid var(--fill-color);\n",
              "    border-color: transparent;\n",
              "    border-bottom-color: var(--fill-color);\n",
              "    animation:\n",
              "      spin 1s steps(1) infinite;\n",
              "  }\n",
              "\n",
              "  @keyframes spin {\n",
              "    0% {\n",
              "      border-color: transparent;\n",
              "      border-bottom-color: var(--fill-color);\n",
              "      border-left-color: var(--fill-color);\n",
              "    }\n",
              "    20% {\n",
              "      border-color: transparent;\n",
              "      border-left-color: var(--fill-color);\n",
              "      border-top-color: var(--fill-color);\n",
              "    }\n",
              "    30% {\n",
              "      border-color: transparent;\n",
              "      border-left-color: var(--fill-color);\n",
              "      border-top-color: var(--fill-color);\n",
              "      border-right-color: var(--fill-color);\n",
              "    }\n",
              "    40% {\n",
              "      border-color: transparent;\n",
              "      border-right-color: var(--fill-color);\n",
              "      border-top-color: var(--fill-color);\n",
              "    }\n",
              "    60% {\n",
              "      border-color: transparent;\n",
              "      border-right-color: var(--fill-color);\n",
              "    }\n",
              "    80% {\n",
              "      border-color: transparent;\n",
              "      border-right-color: var(--fill-color);\n",
              "      border-bottom-color: var(--fill-color);\n",
              "    }\n",
              "    90% {\n",
              "      border-color: transparent;\n",
              "      border-bottom-color: var(--fill-color);\n",
              "    }\n",
              "  }\n",
              "</style>\n",
              "\n",
              "  <script>\n",
              "    async function quickchart(key) {\n",
              "      const quickchartButtonEl =\n",
              "        document.querySelector('#' + key + ' button');\n",
              "      quickchartButtonEl.disabled = true;  // To prevent multiple clicks.\n",
              "      quickchartButtonEl.classList.add('colab-df-spinner');\n",
              "      try {\n",
              "        const charts = await google.colab.kernel.invokeFunction(\n",
              "            'suggestCharts', [key], {});\n",
              "      } catch (error) {\n",
              "        console.error('Error during call to suggestCharts:', error);\n",
              "      }\n",
              "      quickchartButtonEl.classList.remove('colab-df-spinner');\n",
              "      quickchartButtonEl.classList.add('colab-df-quickchart-complete');\n",
              "    }\n",
              "    (() => {\n",
              "      let quickchartButtonEl =\n",
              "        document.querySelector('#df-26d5027b-da14-4589-af99-dd8ba210b666 button');\n",
              "      quickchartButtonEl.style.display =\n",
              "        google.colab.kernel.accessAllowed ? 'block' : 'none';\n",
              "    })();\n",
              "  </script>\n",
              "</div>\n",
              "    </div>\n",
              "  </div>\n"
            ]
          },
          "metadata": {},
          "execution_count": 11
        },
        {
          "output_type": "display_data",
          "data": {
            "text/plain": [
              "<google.colab._quickchart_helpers.SectionTitle at 0x7d18ce39d810>"
            ],
            "text/html": [
              "<h4 class=\"colab-quickchart-section-title\">Values</h4>\n",
              "<style>\n",
              "  .colab-quickchart-section-title {\n",
              "      clear: both;\n",
              "  }\n",
              "</style>"
            ]
          },
          "metadata": {}
        },
        {
          "output_type": "display_data",
          "data": {
            "text/plain": [
              "import numpy as np\n",
              "from google.colab import autoviz\n",
              "\n",
              "def value_plot(df, y, figscale=1):\n",
              "  from matplotlib import pyplot as plt\n",
              "  df[y].plot(kind='line', figsize=(8 * figscale, 4 * figscale), title=y)\n",
              "  plt.gca().spines[['top', 'right']].set_visible(False)\n",
              "  plt.tight_layout()\n",
              "  return autoviz.MplChart.from_current_mpl_state()\n",
              "\n",
              "chart = value_plot(_df_0, *[0], **{})\n",
              "chart"
            ],
            "text/html": [
              "      <div class=\"colab-quickchart-chart-with-code\" id=\"chart-ccc2ef12-206d-4f65-8892-7fb6fe554eaf\">\n",
              "        <img src=\"data:image/png;base64,iVBORw0KGgoAAAANSUhEUgAAAYwAAADECAYAAACMRRb/AAAAOXRFWHRTb2Z0d2FyZQBNYXRwbG90\n",
              "bGliIHZlcnNpb24zLjcuMSwgaHR0cHM6Ly9tYXRwbG90bGliLm9yZy/bCgiHAAAACXBIWXMAAA9h\n",
              "AAAPYQGoP6dpAAAgnklEQVR4nO3de1BU990G8GdZZLnIRUQuAssuiveAATEIa2xea9LYRlNNTExt\n",
              "QJaaps2kndg2zUyZ1E5H+0eSGcdMU1MWYmJqk4jW5tbkjdWExfstxlvkssv9InfksrC7v/ePJYu8\n",
              "oK5yll3Y5zOTmfjj5znfnBx9WB7OIhNCCBAREd2Gl6sHICKi8YGBQUREDmFgEBGRQxgYRETkEAYG\n",
              "ERE5hIFBREQOYWAQEZFDGBhEROQQBgYRETnEbQJj+/btrh6BiIhuwW0Co6KiwtUjEBHRLbhNYBAR\n",
              "kXu7o8B4/vnnoVKpIJPJcO7cOft6SUkJ0tPTMWvWLKSmpuLixYtSz0lERC52R4Hx2GOPQa/XIy4u\n",
              "bsj6M888g02bNuHq1at48cUXkZWVJeWMRETkBu4oMO6//37ExMQMWWtsbMSpU6ewYcMGAMDatWtR\n",
              "VVWF0tJS6aYkIqIRCSHQ2NE7JufyHu0BqqqqEBUVBW9v26FkMhmUSiUqKysxc+bMEX+PyWSCyWQa\n",
              "smaxWEY7ChGRxzCZLThwrhb5egNMZisOvrAMXl4yp55z1IFxN7Zt24YtW7YMWUtLS3PFKERE40rz\n",
              "dRN2H6vEO8cq0HTd9om3v48cJY3XMTsy0KnnHnVgxMbGoq6uDmazGd7e3hBCoLKyEkql8qa/56WX\n",
              "XsILL7wwZC03N3e0oxARTVglDZ3Q6Q3Yd7YGfWYrACAq2BdZ6So8mapEsP8kp88w6sAIDw9HcnIy\n",
              "du/ejaysLBQWFiImJuamX44CAIVCAYVCMWRNLpePdhQioglFCIGikibk6Q346uo1+3piTDBylsbj\n",
              "4QWRmCQfu6cj7igwnnnmGXz88ceor6/HQw89hMDAQJSWlmLnzp3IysrC1q1bERQUhIKCAmfNS0Q0\n",
              "4fX2W3DgXA10egOuNlwHAHjJgAfnRUK7VI1FcVMgkzm3rxjJHQXGzp07R1yfPXs2jh49KslARESe\n",
              "6lqnCbuPVWD3sQo0d/UBAAJ85FiXGouN6Woop/q7dD6XlN5ERDTo2/pO6PTl+Ne5Wns/ER3ih6x0\n",
              "FZ5YHIsgX+f3E45gYBARuYAQAl9evQad3oCikib7+sLYEOQsVeMH8yPhPYb9hCMYGEREY6i334L9\n",
              "Z239RGnjYD/xgwWR0GrikRI3xcUT3hwDg4hoDDR29mL30QrsPl6JloF+YrLCG0+kxiIrXYXYUNf2\n",
              "E45gYBAROdHlug7o9Ab8+1wt+iyD/cTGDBWeSI1FoJv0E45gYBARScxqHewn9KWD/USyMgQ5S+Px\n",
              "4LwIt+snHMHAICKSSE+fBfvOViNfb0DZtS4Atn7i4XuioNWokax0337CEQwMIqJRauzoxdtHK/Du\n",
              "8Qq0dvcDAAIV3nhycSwy01WImeL+/YQjGBhERHfpYm07dHoDPvy6Fv0WAQCImeKHjRlqrFsUM676\n",
              "CUcwMIiI7oDVKnDo20bkFRlwtLzZvr4obgq0GjUenB8JuZPfZtxVGBhERA7o7jOj8EwNCvQGlDfZ\n",
              "+gm5lwwrB/qJhbEhrh1wDDAwiIhuoaGjF7uOGPGPE5Vo+66f8PXG+sVKZKarEB3i5+IJxw4Dg4ho\n",
              "BBdqbP3ER+cH+wllqD82Zqjw+KJYTFZ43l+fnvdfTER0E1arwMErjdDpy3GsvMW+vlgVimyNGivm\n",
              "RUzYfsIRDAwi8njdfWbsPV2NgmIjDDf0Ez8c6CeSPKCfcAQDg4g8Vl17D3YdqcCeE5Vo77H1E0G+\n",
              "3lh/nxKZS1SY7kH9hCMYGETkcc5Xt0GnN+Dj83UwW239RNxUf2RnqPFYSgwCPLCfcASvChF5BItV\n",
              "4IvLDdAVGXDCeEM/oQ5FjkaN5XM9u59wBAODiCa0LpMZH5yqQsERIyqauwEA3l4y/CgxClpNPO6J\n",
              "CXbxhOMHA4OIJqTath778xOdvWYAQLDfJDw10E9EBvu6eMLxR9LA+OSTT/CHP/wBVqsVZrMZv/3t\n",
              "b5GZmSnlKYiIbunrqjbk6Q345Js6WAb6CXVYALIzVFibEgN/H36efLcku3JCCGzYsAGHDx9GYmIi\n",
              "jEYj5syZgzVr1iAwMFCq0xARDWOxCvzvpXro9AacNLba15fET4VWo8b/zAmHF/uJUZM0amUyGdra\n",
              "2gAAHR0dmDp1KhQKhZSnICKyu24y4/2TVSg4YkBVSw8AYJJchkcSpyNbo8aCaPYTUpIsMGQyGd57\n",
              "7z2sWbMGAQEBaG1txb59++Dj4zNsr8lkgslkGrJmsVikGoWIJriath68VWzAP09UodNk6ydC/Cfh\n",
              "J/cp8fQSFSKC2E84g2SBYTab8ec//xn79u3D/fffj5MnT2LVqlX45ptvEBYWNmTvtm3bsGXLliFr\n",
              "aWlpUo1CRBPU2cpW5OkN+M+Fens/ER8WgGyNGmuTY+DnI3fxhBObTAghpDjQqVOn8NRTT+Hq1av2\n",
              "tdTUVGzduhUrVqwYsnekVxi5ubnYvn27FKMQ0QRitljx+aUG5BWV40xlm309fcZU5CxV43uz2E+M\n",
              "FcleYcTGxqKurg6XL1/G3LlzUVpairKyMsyePXvYXoVCMazbkMv5mQERDers7cd7J6tQUGxETdtg\n",
              "P7EqKRpajRrzpge5eELPI1lgRERE4M0338S6devg5eUFq9WK119/HUqlUqpTEJEHqGrpxltHjHjv\n",
              "ZBWuD/QTU/wnYUNaHH6aFodw9hMuI+l3Sa1fvx7r16+X8pBE5CFOV7RCpy/Hfy7UY6CewIxpAdBq\n",
              "4vHje6PZT7gBPsFCRC5jtljxn4u25yfO3tBPaGaGQbtUjWUJ09hPuBEGBhGNuY7efrx3ogpvHRns\n",
              "J3zkXli90Pb8xNwo9hPuiIFBRGOmqqUb+cUGvH+yCl19tmevQgN8sOE+JTYsiUN4IPsJd8bAICKn\n",
              "EkIM9BMGfHZxsJ+YGT4ZORo1Hr03Gr6T2E+MBwwMInKKfosVn16w9RNfV7XZ15cmhEGrUWPZrGmQ\n",
              "ydhPjCcMDCKSVHtPP/55ohK7jhhR294LAPDx9sKPF0YjW6PG7Ei+Gel4xcAgIklUNHehoNiI909V\n",
              "oXugn5ga4IOfLonDhrQ4hE3mG5GOdwwMIrprQgicNNqen/j8UgO+e6OhWRGTkaOJx6qF09lPTCAM\n",
              "DCK6Y/0WKz75pg46vQHnq9vt68tmTUPOUjU0M8PYT0xADAwiclh7dz/2nLT1E3U39BNrk6ORnaFG\n",
              "QgT7iYmMgUFEt2Vs6kJBsQEfnK629xNhk33w9BIVfnKfElPZT3gEBgYRjUgIgROGFuTpDfji8mA/\n",
              "MScyEFqNGqsWTofCm/2EJ2FgENEQfWYrPv6mFjq9ARdqOuzrD8yeBq0mHhkzp7Kf8FAMDCICALR1\n",
              "9+Hd45V4+6gRDR22H3Cm8PbC2pQYZGeoMDOc/YSnY2AQebjya9dRUGzE3tPV6Om39RPTAhXIXBKH\n",
              "p+6LQ2iAj4snJHfBwCDyQEIIHC1vRr7egINXGu39xNyoIGg1ajySFMV+goZhYBB5kD6zFR+dr0Ve\n",
              "kQGX6gb7ieVzwqHVqLFkBvsJujkGBpEHaO3qwz8G3t+psdPWT/hO8sJjKTHYmKHGjGmTXTwhjQcM\n",
              "DKIJrOzadeTrDSg8U43efisAIDxQgcx0FZ5arMQU9hN0ByQNDJPJhM2bN+Ozzz6Dr68vkpKSsHv3\n",
              "bilPQUS3IYTA0bJm5OkN+O+VRvv6/OlByFmqxg/vmQ4fby8XTkjjlaSB8fvf/x4ymQxXr16FTCZD\n",
              "fX29lIcnolswmS348Os65BWV40p9JwBAJgOWz4mAVqNGWnwo+wkaFckCo6urCzqdDtXV1fabMjIy\n",
              "UqrDE9FNtHT14d1jFXj7WAWuDfQTfpPkeHyRrZ9QhwW4eEKaKCQLjLKyMoSGhmLr1q344osv4Ofn\n",
              "hz/+8Y9Yvnz5sL0mkwkmk2nImsVikWoUIo9Q2tgJnd6IfWeqYTLb+omIoMF+IsSf/QRJS7LAMJvN\n",
              "qKiowLx58/CXv/wFZ8+exYoVK3Dx4kVEREQM2btt2zZs2bJlyFpaWppUoxBNWEIIFJc2I09fjsPf\n",
              "XrOvL4gOQo4mHivviWI/QU4jE+K7R3ZGp6mpCREREejr64NcbnvgJzU1Fdu2bcP3v//9IXtHeoWR\n",
              "m5uL7du3SzEK0YRjMltw4Fwt8vWGIf3Eirm2fmKxmv0EOZ9krzDCwsKwfPlyfPbZZ1i5ciUMBgMM\n",
              "BgPmzp07bK9CoYBCMfTtkL8LGSIa1HzdhN3HKvHOsQo0Xbd9kuXvI8fjA89PqNhP0BiS9Luk/va3\n",
              "v0Gr1eLFF1+El5cXdu7ciejoaClPQeQRSho6odMbsO9sDfoG+omoYF9kpquwPlWJYP9JLp6QPJGk\n",
              "gREfH49Dhw5JeUgijyGEQFFJE/L0Bnx1dbCfSIwJRs7SeDy8IBKT5OwnyHX4pDeRi/X2W3DgXA10\n",
              "egOuNlwHYOsnHpoXCe1SNRbFTWE/QW6BgUHkIk3XTXjnaAV2H6tAc1cfACDAR451qbHYmK6Gcqq/\n",
              "iyckGoqBQTTGvq3vRL7egP3nBvuJ6cG+yMpQ4YlUJYL92E+Qe2JgEI0BIQS+vHoNOr0BRSVN9vWk\n",
              "2BDkaNR4eEEkvNlPkJtjYBA5UW+/BfvP1iBfb0BJo62f8JIBP1gQCa1GjWQl+wkaPxgYRE5wrdOE\n",
              "d47Z+omWgX5issIb6xbFYmOGCrGh7Cdo/GFgEEnoSn0HdEUGHDhXiz6LrZ+IDvHDxgwV1qXGIsiX\n",
              "/QSNXwwMolGyWgW+LLkGXZEB+tLBfiJZGQKtJh4PzY9gP0ETAgOD6C719luw70wNdPpylF3rAmDr\n",
              "Jx6+J8reTxBNJAwMojvU2Nlrf36itbsfABCo8MaTi2ORma5CzBT2EzQxMTCIHHSptgM6vQH//roG\n",
              "/RbbmzzHTPHDxgw11i2KQSD7CZrgGBhEt2C1Chz6thE6vQFHyprt64vipkCrUePB+ZGQe/HbYskz\n",
              "MDCIRtDTZ8HeM9Uo0BtQ3mTrJ+ReMqwc6CcWxoa4dkAiF2BgEN2goaMXbx814t3jlWj7rp/w9cb6\n",
              "xUpkpqsQHeLn4gmJXIeBQQTgQk078vUGfHi+1t5PKEP9sTFDhccXxWKygn9UiPingDyW1Srw3yuN\n",
              "yNOX41h5i319sSoU2Ro1VsyLYD9BdAMGBnmc7j4zCk9XI7/YCMMN/cQPB/qJJPYTRCNiYJDHqG/v\n",
              "xa6jRvzjeCXae2z9RJCvN9bfp0TmEhWms58guiUGBk1431S3Q6cvx0fn62C22vqJuKn+yM5Q47GU\n",
              "GASwnyByiOR/UgoKCpCdnY39+/fj0UcflfrwRA6xWAUOXm5Ant6AE4Yb+gl1KHI0aiyfy36C6E5J\n",
              "GhhGoxF///vfkZaWJuVhiRzWZTJj7+lq5BcbUNHcDQDw9pLhR4lR0GricU9MsIsnJBq/JAsMq9WK\n",
              "nJwc7NixA5s3b5bqsEQOqW3rwa6jRuw5XomOXjMAINhvEp4a6Ccig31dPCHR+CdZYLz22mvIyMhA\n",
              "SkrKbfeaTCaYTKYhaxaLRapRyIN8XdUGnd6Aj7+pg2Wgn1BN9YdWo8balBj4+7CfIJKKJH+aLly4\n",
              "gMLCQnz11VcO7d+2bRu2bNkyZI1fxiJHWawC/3upATp9OU4aW+3rafGhyNHE43/mhMOL/QSR5CQJ\n",
              "jKKiIhiNRiQkJAAA6uvrsWnTJtTV1eHZZ58dtv+ll17CCy+8MGQtNzdXilFoArtuMuODU1UoKDai\n",
              "ssXWT0ySy/BI4nRka9RYEM1+gsiZJAmMZ599dkgwfO9738Ovf/3rm36XlEKhgEKhGLIml8ulGIUm\n",
              "oJq2Huw6YsSeE5XoHOgnQvwn4Sf3KfH0EhUigthPEI0FfoGX3Na5qjbkFZXj0wv19n4iPiwA2Ro1\n",
              "1ibHwM+Hn2QQjSWnBMbhw4edcVjyABarwOcX65GnN+B0xWA/kT5jKnKWqvG9WewniFyFrzDILXT2\n",
              "9uP9U9UoKDagurUHgK2fWJUUDa1GjXnTg1w8IRExMMilqlu78VaxEe+drEKnydZPTPGfhA1pcfhp\n",
              "WhzC2U8QuQ0GBrnE6YpW5OsN+PRCHQbqCcyYFgCtJh4/vjea/QSRG2Jg0JgxW6z47GID8vTlOFvZ\n",
              "Zl/XzAyDdqkayxKmsZ8gcmMMDHK6jt5+vH/S9vxETZutn/CRe2H1QtvzE3Oj2E8QjQcMDHKaqpZu\n",
              "FBQb8f6pKlwf6CdCA3ywIS0OG9KUCA9kP0E0njAwSFJCCJypbEVekQGfXay39xMzwycjR6PGo/dG\n",
              "w3cS+wmi8YiBQZIwW6z49ILt+Ymvq9rs60sTwqDVqLFs1jTIZOwniMYzBgaNSntPP947WYm3io2o\n",
              "be8FAPh4e+HHC6ORrVFjdmSgiyckIqkwMOiuVDZ3I7/YgA9OVaGrz/bW9FMDfPDTJXHYkBaHsMmK\n",
              "2xyBiMYbBgY5TAiBUxWtyCsqx+eXGiAG+olZEZOh1aixeiH7CaKJjIFBt9VvseKTb+qg0xtwvrrd\n",
              "vr5s1jRoNWosTQhjP0HkARgYdFPt3f3Yc7ISu44YUXdDP7E2ORrZGWokRLCfIPIkDAwaxtjUhYJi\n",
              "Az44XY3ugX4ibLIPnl6iwk/uU2Iq+wkij8TAIAC2fuKEoQV5egO+uDzYT8yJDIRWo8aqhdOh8GY/\n",
              "QeTJGBgers9s6yfy9OW4UNNhX39g9jRoNfHImDmV/QQRAWBgeKy27j7844Stn2joMAEAFN5eWJsS\n",
              "g+wMFWaGs58goqEYGB6m/Np1FBQbsfd0NXr6bf3EtEAFnk6Lw0/S4hAa4OPiCYnIXTEwPIAQAsfK\n",
              "W6DTl+PglUZ7PzE3KghajRqPJEWxnyCi22JgTGB9Zis+Ol+LvCIDLtUN9hPL54RDq1FjyQz2E0Tk\n",
              "OMkCo7e3F08++SQuXboEPz8/hIeH44033sDMmTOlOgU5qLVrsJ9o7LT1E76TvLA2OQbZGjVmTJvs\n",
              "4gmJaDyS9BXGpk2b8PDDD0Mmk+H1119HTk4ODh8+LOUp6BbKrl1Hvt6AwjPV6O23AgDCAxXITFfh\n",
              "qcVKTGE/QUSjIFlg+Pr6YuXKlfZfp6Wl4ZVXXpHq8HQTQggcLWtGnt6A/15ptK/PiwpCzlI1fpQ4\n",
              "HT7eXi6ckIgmCqd1GNu3b8fq1atH/JjJZILJZBqyZrFYnDXKhGQyW/Dh17b3d7o80E/IZMDyORHQ\n",
              "atRIiw9lP0FEknJKYGzduhWlpaU4ePDgiB/ftm0btmzZMmQtLS3NGaNMOC1dfXj3WAXePlaBawP9\n",
              "hN8kOR5fFIONGWqowwJcPCERTVQyIb77JktpvPLKK/jnP/+JL774AiEhISPuGekVRm5uLrZv3y7l\n",
              "KBNKaeN15BcbUHi6GiazrZ+ICBrsJ0L82U8QkXNJ+grjtddew549e24ZFgCgUCigUAx9Azu5nM8B\n",
              "/H9CCBSXNkOnL8ehb6/Z1xdEByFHE4+V90SxnyCiMSNZYFRXV2Pz5s2Ij4/HAw88AMAWDMePH5fq\n",
              "FB7DZLbgwLla5OsNuFLfCcDWT6yYa+snFqvZTxDR2JMsMGJiYiDxV7c8TvN1E949Xom3j1ag6brt\n",
              "S3b+PnI8nmLrJ1TsJ4jIhfiktxsoaehEfrEB+87U2PuJqGBfZKarsD5ViWD/SS6ekIiIgeEyQggU\n",
              "lTQhT2/AV1cH+4nEmGBoNWqsvCcKk+TsJ4jIfTAwxlhvvwUHztVApzfgasN1ALZ+4qF5kdAuVWNR\n",
              "3BT2E0TklhgYY6TpugnvHK3A7mMVaO7qAwAE+MixLjUWG9PVUE71d/GERES3xsBwsm/rO5GvN2D/\n",
              "uRr0DfQT04N9kZWhwhOpSgT7sZ8govGBgeEEQgh8efUadHoDikqa7OtJsSHI0ajx8IJIeLOfIKJx\n",
              "hoEhod5+C/afrUG+3oCSRls/4SUDfrAgElqNGslK9hNENH4xMCRwrdOEd47Z+omWgX5issIb6xbF\n",
              "YmOGCrGh7CeIaPxjYIzClfoO6IoMOHCuFn0WWz8RHeKHjRkqrEuNRZAv+wkimjgYGHfIahX4suQa\n",
              "dEUG6EsH+4lkZQi0mng8ND+C/QQRTUgMDAf19luw70wNdPpylF3rAmDrJx5eEIVsjRopcVNcPCER\n",
              "kXMxMG6jsbPX/vxEa3c/ACBQ4Y0nUmORmc5+gog8BwPjJi7VdkCnN+DfX9eg32J7U8WYKX7YmKHG\n",
              "ukUxCGQ/QUQehoFxA6tV4PDVRuQVGXCkrNm+vihuCrQaNR6cHwm5F78tlog8EwMDQE+fBYVnqpFf\n",
              "bED5QD8h95Jh5T1R0GrUWBgb4toBiYjcgEcHRkNHL94+asS7xyvR9l0/4euN9YuVyExXITrEz8UT\n",
              "EhG5D48MjAs17cjXG/Dh+Vp7P6EM9cfGDBUeXxSLyQqPvCxERLfkMX8zWq0C/73SiDx9OY6Vt9jX\n",
              "F6tCka1RY8W8CPYTRES3MOEDo7vPjMLT1cgvNsLQNNhP/HCgn0hiP0FE5BBJA6OkpASZmZloampC\n",
              "cHAw3nrrLcyfP1/KUzisvr0Xu44a8Y/jlWjvsfUTQb7eWH+fEplLVJjOfoKI6I5IGhjPPPMMNm3a\n",
              "hKysLOzduxdZWVk4efKklKe4rW+q26HTl+Oj83UwW239hGqqPzZmqPFYSgwC2E8QEd0Vyf72bGxs\n",
              "xKlTp/D5558DANauXYvnnnsOpaWlmDlzplSnGZHFKnDwcgPy9AacMAz2E/epQ6HVqLF8LvsJIqLR\n",
              "kiwwqqqqEBUVBW9v2yFlMhmUSiUqKyuHBYbJZILJZBqyZrFY7uq8/73SgD99eAnG5m4AgLeXDI8k\n",
              "TYdWo8aC6OC7OiYREQ3nkq/PbNu2DVu2bBmylpaWdlfH8pHLYWzuRrDfJDw10E9EBvtKMSYREd1A\n",
              "JoQQUhyosbERM2fOREtLC7y9vSGEQFRUFPR6vUOvMHJzc7F9+/Y7Pq8QAv86V4OH5kfC34f9BBGR\n",
              "s0j2gxvCw8ORnJyM3bt3AwAKCwsRExMzYn+hUCgQFBQ05B+5XH5X55XJZPjxvTEMCyIiJ5P0b9md\n",
              "O3ciKysLW7duRVBQEAoKCqQ8PBERuZCkgTF79mwcPXpUykMSEZGb4M8SJSIihzAwiIjIIZJ9l9Ro\n",
              "rVmzBiqV6q5+r8ViwYkTJ7B48eK7Ls+difONDucbHc43Op4wX1xcHH71q1/ddp/bBMZodHR0IDg4\n",
              "GO3t7QgKCnL1OMNwvtHhfKPD+UaH8w3il6SIiMghDAwiInIIA4OIiBwyIQJDoVDg5ZdfhkKhcPUo\n",
              "I+J8o8P5RofzjQ7nGzQhSm8iInK+CfEKg4iInI+BQUREDmFgEBGRQ8ZVYJSUlCA9PR2zZs1Camoq\n",
              "Ll68OOI+nU6HhIQEzJgxAz/72c/Q39/vNvMdPnwYfn5+WLhwof2fnp4ep8/2/PPPQ6VSQSaT4dy5\n",
              "czfd56pr58h8rrp2ANDb24tHH30Us2bNQlJSElasWIHS0tIR93700UeYM2cOEhISsGbNGnR0dLjN\n",
              "fEajEXK5fMg1LCsrc/p8APDggw8iMTERCxcuxNKlS3H27NkR97nqHnRkPlfeg98pKCiATCbDv/71\n",
              "rxE/7tT7T4wjDzzwgCgoKBBCCPHBBx+IRYsWDdtTXl4uoqKiRF1dnbBareKRRx4Rr7/+utvMd+jQ\n",
              "IZGUlDQm89zoyy+/FFVVVSIuLk6cPXt2xD2uvHaOzOeqayeEED09PeLjjz8WVqtVCCHEjh07xLJl\n",
              "y4bt6+zsFOHh4eLy5ctCCCF++ctfit/85jduM5/BYBDBwcFOn2ckra2t9n/ft2+fSExMHLbHlfeg\n",
              "I/O58h4Uwvb/b8mSJSItLU3s379/2Medff+Nm1cYjY2NOHXqFDZs2AAAWLt2LaqqqoZ9FrV3716s\n",
              "WrUKkZGRkMlk+PnPf449e/a4zXyucv/99yMmJuaWe1x17Rydz5V8fX2xcuVKyGQyALYfKWw0Goft\n",
              "+/TTT3Hvvfdizpw5AIBf/OIXY3INHZ3PlUJCQuz/3t7ebp/1Rq68Bx2Zz5WsVitycnKwY8eOm34L\n",
              "rbPvv3ETGFVVVYiKioK3t+1HeMhkMiiVSlRWVg7ZV1lZibi4OPuvVSrVsD2unA8AysrKkJycjNTU\n",
              "VPz1r391+myOctW1uxPucu22b9+O1atXD1sf6RrW1dXBbDaP5Xg3nQ8Aurq6kJqaiuTkZPzpT3+C\n",
              "xWIZs7mefvppxMbGIjc3F++8886wj7v6HrzdfIDr7sHXXnsNGRkZSElJuekeZ99//LmmYyw5ORnV\n",
              "1dUIDg5GdXU1Vq5cibCwMKxbt87Vo7k9d7l2W7duRWlpKQ4ePDim53XUreaLiopCTU0NwsPD0dLS\n",
              "gieeeAKvvvoqfve7343JbG+//TYAYNeuXXjxxRfxySefjMl5HXW7+Vx1D164cAGFhYX46quvnHqe\n",
              "2xk3rzBiY2OHJKUQApWVlVAqlUP2KZVKVFRU2H9tNBqH7XHlfEFBQQgODgYAxMTEYP369SgqKnL6\n",
              "fI5w1bVzlDtcu1deeQX79u3Dp59+Cn9//2EfH+ka3vjK09XzKRQKhIeHAwBCQ0ORnZ3tkvsvMzMT\n",
              "hw4dQnNz85B1d7kHbzafq+7BoqIiGI1GJCQkQKVS4dixY9i0aRPeeOONIfucfv9J1oaMgWXLlg0p\n",
              "lVNSUobtKSsrG1aa7dixw23mq62tFRaLRQghREdHh0hPTxc6nW5M5hNC3LJUduW1c2Q+V1+7V199\n",
              "VSQnJ4uWlpab7uno6BDTpk0bUjpu3rzZbeZraGgQfX19Qgghent7xWOPPSZyc3OdPltra6uoqamx\n",
              "/3r//v0iOjraXtJ/x1X3oKPzufoe/M6yZctGLL2dff+Nq8C4cuWKSEtLEwkJCSIlJUWcP39eCCGE\n",
              "VqsVBw4csO978803RXx8vIiPjxfZ2dn2PyDuMN+OHTvEvHnzRGJiopg3b554+eWXh92UzrBp0yYR\n",
              "HR0t5HK5CA8PFzNmzBg2mxCuu3aOzOeqayeEEFVVVQKAiI+PF0lJSSIpKUksXrxYCCFEbm6ueOON\n",
              "N+x7Dxw4IGbPni1mzJghVq9eLdra2txmvsLCQjF//nz7NXzuuedEb2+v0+czGo0iNTVVLFiwQCQm\n",
              "Jorly5fbPzFwh3vQ0flceQ/e6MbAGMv7j+8lRUREDhk3HQYREbkWA4OIiBzCwCAiIocwMIiIyCEM\n",
              "DCIicggDg4iIHMLAICIihzAwiIjIIQwMIiJyCAODiIgcwsAgIiKH/B/zIFQL1rnhmwAAAABJRU5E\n",
              "rkJggg==\n",
              "\">\n",
              "        \n",
              "      </div>\n",
              "      <script></script>\n",
              "      <script type=\"text/javascript\">\n",
              "        (() => {\n",
              "          const chartElement = document.getElementById(\"chart-ccc2ef12-206d-4f65-8892-7fb6fe554eaf\");\n",
              "          async function getCodeForChartHandler(event) {\n",
              "            const chartCodeResponse =  await google.colab.kernel.invokeFunction(\n",
              "                'getCodeForChart', [\"chart-ccc2ef12-206d-4f65-8892-7fb6fe554eaf\"], {});\n",
              "            const responseJson = chartCodeResponse.data['application/json'];\n",
              "            await google.colab.notebook.addCell(responseJson.code, 'code');\n",
              "          }\n",
              "          chartElement.onclick = getCodeForChartHandler;\n",
              "        })();\n",
              "      </script>\n",
              "      <style>\n",
              "        .colab-quickchart-chart-with-code  {\n",
              "            display: block;\n",
              "            float: left;\n",
              "            border: 1px solid transparent;\n",
              "        }\n",
              "\n",
              "        .colab-quickchart-chart-with-code:hover {\n",
              "            cursor: pointer;\n",
              "            border: 1px solid #aaa;\n",
              "        }\n",
              "      </style>"
            ]
          },
          "metadata": {}
        },
        {
          "output_type": "display_data",
          "data": {
            "text/plain": [
              "<google.colab._quickchart_helpers.SectionTitle at 0x7d18ce39c580>"
            ],
            "text/html": [
              "<h4 class=\"colab-quickchart-section-title\">Distributions</h4>\n",
              "<style>\n",
              "  .colab-quickchart-section-title {\n",
              "      clear: both;\n",
              "  }\n",
              "</style>"
            ]
          },
          "metadata": {}
        },
        {
          "output_type": "display_data",
          "data": {
            "text/plain": [
              "import numpy as np\n",
              "from google.colab import autoviz\n",
              "\n",
              "def histogram(df, colname, num_bins=20, figscale=1):\n",
              "  from matplotlib import pyplot as plt\n",
              "  df[colname].plot(kind='hist', bins=num_bins, title=colname, figsize=(8*figscale, 4*figscale))\n",
              "  plt.gca().spines[['top', 'right',]].set_visible(False)\n",
              "  plt.tight_layout()\n",
              "  return autoviz.MplChart.from_current_mpl_state()\n",
              "\n",
              "chart = histogram(_df_1, *[0], **{})\n",
              "chart"
            ],
            "text/html": [
              "      <div class=\"colab-quickchart-chart-with-code\" id=\"chart-db2e7fda-3d7a-4114-961d-2e84aac3e79a\">\n",
              "        <img src=\"data:image/png;base64,iVBORw0KGgoAAAANSUhEUgAAAYwAAADECAYAAACMRRb/AAAAOXRFWHRTb2Z0d2FyZQBNYXRwbG90\n",
              "bGliIHZlcnNpb24zLjcuMSwgaHR0cHM6Ly9tYXRwbG90bGliLm9yZy/bCgiHAAAACXBIWXMAAA9h\n",
              "AAAPYQGoP6dpAAAVyElEQVR4nO3df2zU9eHH8de11ZubHL8rHe31Bv0hiLQU2tTCUCRkuO8srDWL\n",
              "2+roltLCdMx0iYiMbHWuxWw6mIujFdLJOtGtraZB1EwlDBQsRUAoKi1S7sRCicQWI5z0+vn+wbx5\n",
              "ttXPHf30jvb5SD5J78O7n3u9r+Re+Xw+d5+PzTAMQwAAfIWocAcAAFwZKAwAgCkUBgDAFAoDAGAK\n",
              "hQEAMIXCAACYQmEAAEyhMAAAplAYAABThkRhrF+/PtwRAGDIGxKFceLEiXBHAIAhb0gUBgDAepYW\n",
              "xooVK+RyuWSz2XTgwIF+x23atEnJycmaPHmyli5dqosXL1oZCwAQAksL44477tCuXbuUmJjY75jj\n",
              "x49rzZo12rlzp1pbW3X69GlVVVVZGQsAEAJLC2Pu3LmKj4//0jG1tbXKzc3VhAkTZLPZtGzZMm3Z\n",
              "ssXKWACAEMSEO4Db7Q7YA3G5XHK73f2O93q98nq9Aet8Pp9l+QAAl4S9MIJVUVGhsrKygHXZ2dkh\n",
              "b891//OXladt7f9d1u9fiS7nNeP1Ch6vWXCu1NfrSvh/EvZPSTmdzoCPxba1tcnpdPY7ftWqVers\n",
              "7AxYsrKyBiMqAAxrYS+M/Px8NTQ06NSpUzIMQxs2bNCdd97Z73i73S6HwxGwREdHD2JiABieLC2M\n",
              "kpISxcfH6/3339d3vvMdJSUlSZKKiorU0NAgSZo0aZLKyso0e/ZsJSUlafz48SopKbEyFgAgBJae\n",
              "w6isrOxz/caNGwMeL126VEuXLrUyCgDgMoX9kBQA4MpAYQAATKEwAACmUBgAAFMoDACAKRQGAMAU\n",
              "CgMAYAqFAQAwhcIAAJhCYQAATKEwAACmUBgAAFMoDACAKRQGAMAUCgMAYAqFAQAwhcIAAJhCYQAA\n",
              "TKEwAACmUBgAAFMoDACAKZYWRktLi3JycpSSkqLMzEw1Nzf3GtPT06PS0lJNnTpV06dP17x589Ta\n",
              "2mplLABACCwtjJKSEhUXF+vo0aNauXKlCgsLe41paGjQa6+9poMHD+qtt97S/Pnz9cADD1gZCwAQ\n",
              "AssKo6OjQ01NTSooKJAk5efny+Px9Np7sNls8nq9unDhggzDUFdXl+Lj462KBQAIUYxVG/Z4PIqL\n",
              "i1NMzKWnsNlscjqdcrvdSkpK8o+7/fbbtX37dk2YMEEjRozQxIkTtWPHjn636/V65fV6A9b5fD5r\n",
              "JgEA8Av7Se+mpiYdPnxYJ0+e1AcffKD58+dr2bJl/Y6vqKjQyJEjA5bGxsZBTAwAw5NlhZGQkKD2\n",
              "9nZ1d3dLkgzDkNvtltPpDBi3efNm3XrrrRo1apSioqK0ZMkSbd++vd/trlq1Sp2dnQFLVlaWVdMA\n",
              "APyXZYURGxurjIwM1dTUSJLq6uoUHx8fcDhKkiZNmqRXX31Vn376qSRp69atmjZtWr/btdvtcjgc\n",
              "AUt0dLRV0wAA/Jdl5zAkqbKyUoWFhSovL5fD4VB1dbUkqaioSLm5ucrNzdXdd9+tt99+W2lpabrq\n",
              "qqs0YcIEbdiwwcpYAIAQWFoYqamp2r17d6/1Gzdu9P9st9v1xBNPWBkDADAAwn7SGwBwZaAwAACm\n",
              "UBgAAFMoDACAKRQGAMAUCgMAYAqFAQAwhcIAAJhCYQAATKEwAACmBF0YL730khU5AAARLujCePDB\n",
              "B5Wamqr169erq6vLikwAgAgUdGG89tprevrpp3X48GGlpKTo5z//uY4cOWJFNgBABAnpHMaMGTP0\n",
              "xBNP6MUXX9TWrVs1ffp0LViwQIcOHRrofACACBFSYbz88statGiR8vLydPfdd+vUqVMqKSnR97//\n",
              "/YHOBwCIEEHfD2PKlCkaN26cVqxYoby8PP/d7u644w5t2rRpwAMCACJD0IVRU1OjmTNn9vlvL7zw\n",
              "wmUHAgBEpqAPSe3bt09nz571P/7www+5Yx4ADANBF8bjjz+uMWPG+B+PHTtWjz/++ICGAgBEnqAL\n",
              "wzCMXut8Pt+AhAEARK6gCyMuLk7//Oc//Y+feeYZxcXFDWgoAEDkCbow1q1bpzVr1sjlcsnlcqms\n",
              "rEx/+ctf+hzb0tKinJwcpaSkKDMzU83NzX2OO3TokG655RZNmTJFU6ZMUX19fbCxAAAWC/pTUtdf\n",
              "f72OHDmid999V5KUmprq/2jtF5WUlKi4uFiFhYWqra1VYWGh9u7dGzDmk08+0aJFi7R582bNmTNH\n",
              "Pp8v4KQ6ACAyhPTFPZvNplGjRunaa6/VyZMn5Xa7e43p6OhQU1OTCgoKJEn5+fnyeDxqbW0NGPfU\n",
              "U08pOztbc+bMkSRFR0dr/PjxocQCAFgo6D2Mv/3tb1qxYoWuuuoqRUVd6hubzaaOjo6AcR6PR3Fx\n",
              "cYqJifGPcTqdcrvdSkpK8o87cuSI7Ha7vve97+n999/X9OnT9cgjj/RbGl6vV16vN2AdJ90BwHpB\n",
              "72H87ne/0969e/Xhhx/qzJkzOnPmTK+yCEZ3d7defvllVVZWav/+/Zo4caKWL1/e7/iKigqNHDky\n",
              "YGlsbAz5+QEA5gRdGOPGjVNqaupXjktISFB7e7u6u7slXfo4rtvtltPpDBjndDo1b948TZw4UTab\n",
              "TQUFBdqzZ0+/2121apU6OzsDlqysrGCnAQAIUtCFsXjxYq1bt04dHR3q6uryL18UGxurjIwM1dTU\n",
              "SJLq6uoUHx8fcDhKkn7wgx9o7969/m1s27ZNaWlp/T6/3W6Xw+EIWPo76Q4AGDhBn8NYvXq1JKm0\n",
              "tFQ2m02GYchms/V5HqGyslKFhYUqLy+Xw+FQdXW1JKmoqEi5ubnKzc2V0+nUAw88oJycHEVFRWni\n",
              "xImqqqq6zGkBAAZa0IXR09Njemxqaqp2797da/3GjRsDHt9111266667go0CABhEIX2sdt++ffr7\n",
              "3/8uSfroo4/U3t4+oKEAAJEnpIsP/uxnP9Nvf/tbSZeuVvujH/1ooHMBACJM0IVRVVWlPXv2yOFw\n",
              "SJImT56sM2fODHgwAEBkCbow7Ha7rrnmmoB1n305DwAwdAVdGOPHj9fRo0dls9kkXfrm9xe/WwEA\n",
              "GHqC3jVYt26dfvjDH+qdd95RQkKCHA6Htm7dakU2AEAECbowkpKS9MYbb+jdd9+VYRhferVaAMDQ\n",
              "EXRhfHZl2m984xuSpJMnT0oSh6UAYIgLujBmzpzp/4b3hQsX9Mknn2js2LGXdQFCAEDkC7owvvgR\n",
              "2vr6eh08eHDAAgEAIlNI3/T+vLy8PD3//PMDkQUAEMGC3sP4/JVpfT6f3njjjT6vVgsAGFqCLoxR\n",
              "o0b5z2FER0crOTlZf/7zn63IBgCIIJZerRYAMHRc9jkMAMDwEPQeRlRUlP+yIJ/3ZTdSAgBc+YIu\n",
              "jAcffFDnz5/X8uXLJUkbNmzQNddco3vvvXegswEAIkjQhfHss89q3759/scPPfSQZs6c6b91KwBg\n",
              "aAr6HMa5c+cCvtXd0dGhc+fODWgoAEDkCXoP41e/+pXS0tL03e9+V5L04osv+u++BwAYuoIujJKS\n",
              "Es2ePVvbt2+XJJWWluqGG24Y8GAAgMgS0sdqx44dqxtvvFG/+MUvlJqaqk8//bTPcS0tLcrJyVFK\n",
              "SooyMzPV3Nzc7zYNw9Ctt96qUaNGhRIJAGCxoAujtrZW2dnZ+ulPfypJam5u1uLFi/scW1JSouLi\n",
              "Yh09elQrV65UYWFhv9v905/+pMmTJwcbBwAwSIIujIqKCr355pv+PYG0tDSdOHGi17iOjg41NTWp\n",
              "oKBAkpSfny+Px6PW1tZeY5ubm/Xcc8/p/vvvDzYOAGCQBH0OIzo6WmPHjg1Yd/XVV/ca5/F4FBcX\n",
              "p5iYS09hs9nkdDrldruVlJTkH3fx4kUtXbpUmzZtMnXnPq/XK6/XG7COLwsCgPWC3sMYMWKETp8+\n",
              "7f+29yuvvKIxY8aEHKCsrEx5eXmaMmWKqfEVFRUaOXJkwNLY2Bjy8wMAzAm6MB5++GHddttteu+9\n",
              "9zRnzhz95Cc/0SOPPNJrXEJCgtrb29Xd3S3p0kltt9vd61auO3bs0GOPPSaXy6U5c+aoq6tLLper\n",
              "142aPrNq1Sp1dnYGLFlZWcFOAwAQpKAOSfX09Mjn82n79u16/fXXZRiGcnJy+vxkU2xsrDIyMlRT\n",
              "U6PCwkLV1dUpPj4+4HCUJO3cudP/c1tbm9LT09XW1tZvBrvdLrvdHrDOzKEsAMDlCaowoqKiVFxc\n",
              "rIMHD+q22277yvGVlZUqLCxUeXm5HA6HqqurJUlFRUXKzc1Vbm5uaKkBAIMu6JPeycnJam1t7bWn\n",
              "0JfU1FTt3r271/qNGzf2Od7lcumjjz4KNhIAYBAEXRhnz55Venq6cnJydO211/rX19fXD2gwAEBk\n",
              "MV0YxcXFqqqq0pIlS5Sbm6vRo0dbmQsAEGFMF0ZTU5MkacmSJcrIyNCbb75pWSgAQOQJ6VpShmEM\n",
              "dA4AQIQzvYdx/vx5HTp0SIZh6MKFC/6fPzN9+nRLAgIAIkNQhfH5j8F+/mebzab33ntvYJMBACKK\n",
              "6cL4si/TAQCGvpDOYQAAhh8KAwBgCoUBADCFwgAAmEJhAABMoTAAAKZQGAAAUygMAIApFAYAwBQK\n",
              "AwBgCoUBADCFwgAAmEJhAABMoTAAAKZYWhgtLS3KyclRSkqKMjMz1dzc3GvMq6++qqysLE2dOlU3\n",
              "3HCD7rvvPvX09FgZCwAQAksLo6SkRMXFxTp69KhWrlypwsLCXmNGjx6tp59+WkeOHNG+ffv0+uuv\n",
              "a/PmzVbGAgCEwLLC6OjoUFNTkwoKCiRJ+fn58ng8am1tDRg3Y8YMTZo0SZL0ta99Tenp6dysCQAi\n",
              "kOk77gXL4/EoLi5OMTGXnsJms8npdMrtdispKanP3zl16pRqa2u1devWfrfr9Xrl9XoD1vl8voEL\n",
              "DgDoU8Sc9O7q6tLtt9+u++67T7Nmzep3XEVFhUaOHBmwNDY2DmJSABieLCuMhIQEtbe3q7u7W5Jk\n",
              "GIbcbrecTmevsefOndPChQu1aNEilZaWful2V61apc7OzoAlKyvLkjkAAP7HssKIjY1VRkaGampq\n",
              "JEl1dXWKj4/vdTjq448/1sKFC7Vw4UL9+te//srt2u12ORyOgCU6OtqSOQAA/sfSQ1KVlZWqrKxU\n",
              "SkqK1q5dq+rqaklSUVGRGhoaJEnr169XY2Oj6uvrlZ6ervT0dP3+97+3MhYAIASWnfSWpNTUVO3e\n",
              "vbvX+o0bN/p/Xr16tVavXm1lDADAAIiYk94AgMhGYQAATKEwAACmUBgAAFMoDACAKRQGAMAUCgMA\n",
              "YAqFAQAwhcIAAJhCYQAATKEwAACmUBgAAFMoDACAKRQGAMAUCgMAYAqFAQAwhcIAAJhCYQAATKEw\n",
              "AACmUBgAAFMsLYyWlhbl5OQoJSVFmZmZam5u7nPcpk2blJycrMmTJ2vp0qW6ePGilbEAACGwtDBK\n",
              "SkpUXFyso0ePauXKlSosLOw15vjx41qzZo127typ1tZWnT59WlVVVVbGAgCEwLLC6OjoUFNTkwoK\n",
              "CiRJ+fn58ng8am1tDRhXW1ur3NxcTZgwQTabTcuWLdOWLVusigUACFGMVRv2eDyKi4tTTMylp7DZ\n",
              "bHI6nXK73UpKSvKPc7vdSkxM9D92uVxyu939btfr9crr9Qas8/l8A5weAPBFlhWGVSoqKlRWVhaw\n",
              "7vrrr1dpaWnQ2/L5fIprbFRWVpaio6NDylNa+kpIvxcuPp9PjZc557zLeP5wvV4DMe9QXc7rJYX+\n",
              "moVzzpcr1NfM5/PpppseGlZzli5/3omJifrlL3/5leNshmEYoQT8Kh0dHUpKStLZs2cVExMjwzAU\n",
              "FxenXbt2Bexh/OEPf9CxY8e0YcMGSdK2bdtUXl6uXbt29bndvvYw7Ha77HZ70Bm7uro0cuRIdXZ2\n",
              "yuFwBP37V6LhOGdpeM6bOQ+POUuDN2/LzmHExsYqIyNDNTU1kqS6ujrFx8cHlIV06dxGQ0ODTp06\n",
              "JcMwtGHDBt155539btdut8vhcAQsoZQFACA4ln5KqrKyUpWVlUpJSdHatWtVXV0tSSoqKlJDQ4Mk\n",
              "adKkSSorK9Ps2bOVlJSk8ePHq6SkxMpYAIAQWHZI6kowHHdfh+OcpeE5b+Y8POYsDYFDUlcCu92u\n",
              "3/zmN8PqkNZwnLM0POfNnIePwZr3sN7DAACYN6z3MAAA5lEYAABTKAwAgCnDtjDMXkl3KLlw4YIW\n",
              "L16slJQUpaWlacGCBb2u7TWUVVdXy2az6bnnngt3FMt5vV7dc889Sk5O1o033ui/pttQt23bNmVk\n",
              "ZCg9PV3Tpk3Tk08+Ge5IA27FihVyuVyy2Ww6cOCAf/2gvKcZw9S8efOM6upqwzAM41//+pcxa9as\n",
              "8AYaBOfPnzeef/55o6enxzAMw3jssceMm2++ObyhBsnx48eNm266ycjOzjaeffbZcMex3L333mvc\n",
              "c889/r91e3t7mBNZr6enxxg9erRx8OBBwzAu/c3tdrvR1dUV5mQDa8eOHYbH4zESExON/fv3+9cP\n",
              "xnvasCyM06dPGyNGjDAuXrxoGMal/2jXXXed0dLSEuZkg2vv3r1GYmJiuGNYzufzGfPnzzeampqM\n",
              "m2++ecgXxscff2yMGDHC6OzsDHeUQdXT02OMGTPG2LFjh2EYhnHw4EHjm9/8puH1esOczBqfL4zB\n",
              "ek8bloekvuxKusPJ+vXrtWjRonDHsNyjjz6q2bNna+bMmeGOMiiOHTumMWPGqLy8XLNmzdK3v/1t\n",
              "vfLKlXWRzFDYbDY988wzysvLU2JioubMmaMnn3xSV199dbijWW6w3tOuuKvVYmCUl5ertbV1yL+R\n",
              "HD58WHV1dfrPf/4T7iiDpru7WydOnNDUqVO1du1a7d+/XwsWLFBzc7Ouu+66cMezTHd3tx566CHV\n",
              "19dr7ty52rt3r3Jzc3Xo0CGNGzcu3PGGhGG5h5GQkKD29nZ1d3dLkgzDkNvtltPpDHOywfHHP/5R\n",
              "9fX1euGFF/T1r3893HEstXPnTrW1tSk5OVkul0t79uxRcXGx/vrXv4Y7mmWcTqeioqL04x//WJI0\n",
              "Y8YMfetb39KhQ4fCnMxaBw4c0AcffKC5c+dKkjIzMxUfH6/9+/eHOZn1Bus9bVgWhtkr6Q5Fjz76\n",
              "qLZs2aJ///vfGjVqVLjjWG758uVqb29XW1ub2tralJ2draqqKi1fvjzc0Swzbtw4zZ8/Xy+99JKk\n",
              "S7dBPn78uKZMmRLmZNb67E3z7bffliS1trbq2LFjSk1NDXMy6w3ae9qAnhG5grzzzjtGdna2kZyc\n",
              "bMycOdN46623wh3Jch6Px5BkTJo0yUhLSzPS0tKMrKyscMcaVMPhpLdhGMaxY8eMW265xZg2bZox\n",
              "ffp0o7a2NtyRBsVTTz3ln/O0adOMf/zjH+GONOCKi4uNiRMnGtHR0UZsbKwxefJkwzAG5z2Na0kB\n",
              "AEwZloekAADBozAAAKZQGAAAUygMAIApFAYAwBQKAwBgCoUBADCFwgAAmEJhAABMoTAAAKZQGAAA\n",
              "U/4fuMBSOZaIJccAAAAASUVORK5CYII=\n",
              "\">\n",
              "        \n",
              "      </div>\n",
              "      <script></script>\n",
              "      <script type=\"text/javascript\">\n",
              "        (() => {\n",
              "          const chartElement = document.getElementById(\"chart-db2e7fda-3d7a-4114-961d-2e84aac3e79a\");\n",
              "          async function getCodeForChartHandler(event) {\n",
              "            const chartCodeResponse =  await google.colab.kernel.invokeFunction(\n",
              "                'getCodeForChart', [\"chart-db2e7fda-3d7a-4114-961d-2e84aac3e79a\"], {});\n",
              "            const responseJson = chartCodeResponse.data['application/json'];\n",
              "            await google.colab.notebook.addCell(responseJson.code, 'code');\n",
              "          }\n",
              "          chartElement.onclick = getCodeForChartHandler;\n",
              "        })();\n",
              "      </script>\n",
              "      <style>\n",
              "        .colab-quickchart-chart-with-code  {\n",
              "            display: block;\n",
              "            float: left;\n",
              "            border: 1px solid transparent;\n",
              "        }\n",
              "\n",
              "        .colab-quickchart-chart-with-code:hover {\n",
              "            cursor: pointer;\n",
              "            border: 1px solid #aaa;\n",
              "        }\n",
              "      </style>"
            ]
          },
          "metadata": {}
        },
        {
          "output_type": "display_data",
          "data": {
            "text/plain": [
              "<google.colab._quickchart_helpers.SectionTitle at 0x7d18cc28ac80>"
            ],
            "text/html": [
              "<h4 class=\"colab-quickchart-section-title\">Time series</h4>\n",
              "<style>\n",
              "  .colab-quickchart-section-title {\n",
              "      clear: both;\n",
              "  }\n",
              "</style>"
            ]
          },
          "metadata": {}
        },
        {
          "output_type": "display_data",
          "data": {
            "text/plain": [
              "import numpy as np\n",
              "from google.colab import autoviz\n",
              "\n",
              "def time_series_multiline(df, timelike_colname, value_colname, series_colname, figscale=1, mpl_palette_name='Dark2'):\n",
              "  from matplotlib import pyplot as plt\n",
              "  import seaborn as sns\n",
              "  figsize = (10 * figscale, 5.2 * figscale)\n",
              "  palette = list(sns.palettes.mpl_palette(mpl_palette_name))\n",
              "  def _plot_series(series, series_name, series_index=0):\n",
              "    if value_colname == 'count()':\n",
              "      counted = (series[timelike_colname]\n",
              "                 .value_counts()\n",
              "                 .reset_index(name='counts')\n",
              "                 .rename({'index': timelike_colname}, axis=1)\n",
              "                 .sort_values(timelike_colname, ascending=True))\n",
              "      xs = counted[timelike_colname]\n",
              "      ys = counted['counts']\n",
              "    else:\n",
              "      xs = series[timelike_colname]\n",
              "      ys = series[value_colname]\n",
              "    plt.plot(xs, ys, label=series_name, color=palette[series_index % len(palette)])\n",
              "\n",
              "  fig, ax = plt.subplots(figsize=figsize, layout='constrained')\n",
              "  df = df.sort_values(timelike_colname, ascending=True)\n",
              "  if series_colname:\n",
              "    for i, (series_name, series) in enumerate(df.groupby(series_colname)):\n",
              "      _plot_series(series, series_name, i)\n",
              "    fig.legend(title=series_colname, bbox_to_anchor=(1, 1), loc='upper left')\n",
              "  else:\n",
              "    _plot_series(df, '')\n",
              "  sns.despine(fig=fig, ax=ax)\n",
              "  plt.xlabel(timelike_colname)\n",
              "  plt.ylabel(value_colname)\n",
              "  return autoviz.MplChart.from_current_mpl_state()\n",
              "\n",
              "chart = time_series_multiline(_df_2, *[0, 'count()', None], **{})\n",
              "chart"
            ],
            "text/html": [
              "      <div class=\"colab-quickchart-chart-with-code\" id=\"chart-6f63e25c-041d-4904-bf4a-98977d0e2b20\">\n",
              "        <img src=\"data:image/png;base64,iVBORw0KGgoAAAANSUhEUgAAAf8AAAEPCAYAAABMY82nAAAAOXRFWHRTb2Z0d2FyZQBNYXRwbG90\n",
              "bGliIHZlcnNpb24zLjcuMSwgaHR0cHM6Ly9tYXRwbG90bGliLm9yZy/bCgiHAAAACXBIWXMAAA9h\n",
              "AAAPYQGoP6dpAAAXnklEQVR4nO3df0zU9x3H8dcXqOePyY9WBBc8KCIqautP4q+BXduo3aQqbjOt\n",
              "a9hEsanRSjod2di0W9EtHatz2dSFGFszu05tQ2qXZbOJRVmHTnBObRXLeVBFaqfQOqXAffeHKdnN\n",
              "X1Dv69fz83wk3z/ue99+733fkD65r1++Z9m2bQsAABgjwu0BAADA7UX8AQAwDPEHAMAwxB8AAMMQ\n",
              "fwAADEP8AQAwDPEHAMAwxB8AAMPc9fFft26d2yMAAHBHuevjf+rUKbdHAADgjnLXxx8AAAQj/gAA\n",
              "GIb4AwBgGOIPAIBhiD8AAIYh/gAAGIb4AwBgGOIPAIBhiD8AAIYh/gAAGIb4AwBgGOIPAIBhiD8A\n",
              "AIYh/gAAGIb4AwBgGOIPAIBhiD8AAIYh/gAAGIb4AwBgGOIPAIBhiD8AAIYh/gAAGIb4AwBgGOIP\n",
              "AIBhiD8AAIZxNP5Lly5VSkqKLMtSTU3NdbcrKyvT4MGDNWjQIC1cuFBtbW1Bz9u2ra9+9auKjY11\n",
              "clwAAIzgaPznzp2rvXv3Kjk5+brb1NXVqbi4WBUVFaqtrdXZs2e1adOmoG1++ctfatCgQU6OCgCA\n",
              "MRyNf1ZWlpKSkm64zfbt25WTk6PExERZlqXFixdr27Ztnc8fOXJEb7zxhr7//e/f9PVaW1vV0tIS\n",
              "tHR0dNzy+wAA4G7i+r/5+/3+oDMDKSkp8vv9kqS2tjYtXLhQGzduVGRk5E33tWbNGsXExAQtVVVV\n",
              "js0OAEA4cj3+N7J69WrNmTNHw4YN69L2RUVFam5uDloyMzMdnhIAgPAS5fYAXq9XJ0+e7Hzs8/nk\n",
              "9XolSXv27JHf79evf/1rtbe3q6WlRSkpKdq/f7/i4+Ov2pfH45HH4wla15UzBgAAmMT1T/65ubkq\n",
              "Ly9XY2OjbNvWhg0bNG/ePElSRUWFTp06JZ/Pp7179yo6Olo+n++a4QcAAF3jaPwLCgqUlJSkhoYG\n",
              "TZs2TWlpaZKk/Px8lZeXS5JSU1O1evVqTZ48WWlpaYqPj1dBQYGTYwEAYDTLtm3b7SGcVFhYqNLS\n",
              "UrfHAADgjuH6aX8AAHB7EX8AAAxD/AEAMAzxBwDAMMQfAADDEH8AAAxD/AEAMAzxBwDAMMQfAADD\n",
              "EH8AAAxD/AEAMAzxBwDAMMQfAADDEH8AAAxD/AEAMAzxBwDAMMQfAADDEH8AAAxD/AEAMAzxBwDA\n",
              "MMQfAADDEH8AAAxD/AEAMAzxBwDAMMQfAADDEH8AAAxD/AEAMAzxBwDAMMQfAADDEH8AAAxD/AEA\n",
              "MIyj8V+6dKlSUlJkWZZqamquu11ZWZkGDx6sQYMGaeHChWpra5Mkvf3228rMzFRGRoaGDx+uFStW\n",
              "KBAIODkyAAB3PUfjP3fuXO3du1fJycnX3aaurk7FxcWqqKhQbW2tzp49q02bNkmS4uLi9Oqrr+ro\n",
              "0aP6xz/+ocrKSr388stOjgwAwF3P0fhnZWUpKSnphtts375dOTk5SkxMlGVZWrx4sbZt2yZJGj16\n",
              "tFJTUyVJPXv21KhRo+Tz+ZwcGQCAu16U2wP4/f6gMwMpKSny+/1XbdfY2Kjt27frzTffvO6+Wltb\n",
              "1draGrSuo6MjdMMCAHAXCIsL/lpaWjRz5kytWLFC48aNu+52a9asUUxMTNBSVVV1GycFAODO53r8\n",
              "vV6vTp061fnY5/PJ6/V2Pv7kk080ffp0Pf744yosLLzhvoqKitTc3By0ZGZmOjY7AADhyPX45+bm\n",
              "qry8XI2NjbJtWxs2bNC8efMkSZ9++qmmT5+u6dOn64c//OFN9+XxeBQdHR20REZGOv0WAAAIK47G\n",
              "v6CgQElJSWpoaNC0adOUlpYmScrPz1d5ebkkKTU1VatXr9bkyZOVlpam+Ph4FRQUSJLWrVunqqoq\n",
              "7dy5U6NGjdKoUaP0wgsvODkyAAB3Pcu2bdvtIZxUWFio0tJSt8cAAOCO4fppfwAAcHsRfwAADEP8\n",
              "AQAwDPEHAMAwxB8AAMMQfwAADEP8AQAwDPEHAMAwxB8AAMMQfwAADEP8AQAwDPEHAMAwxB8AAMMQ\n",
              "fwAADEP8AQAwDPEHAMAwxB8AAMNEfZH/6OjRo2poaFCvXr00cuRIxcbGhngsAADglC7H/5NPPtGL\n",
              "L76o3/3ud+rdu7cSEhJ0+fJlnTx5UpmZmVq5cqUefvhhJ2cFAAAh0OX4P/TQQ3rqqadUXV2thISE\n",
              "zvWBQEAVFRXasGGDamtrVVBQ4MigAAAgNLoc/3379snj8Vy1PiIiQtnZ2crOzlZra2tIhwMAAKHX\n",
              "5Qv+rhX+L7INAABwV5fj//Wvf12VlZXXfO7ChQv6xS9+oY0bN4ZsMAAA4Iwun/YvKSlRUVGRjh49\n",
              "qvHjx3de8Pfee+/pww8/1DPPPKPvfve7Ts4KAABCoMvxf+CBB7Rr1y7V19drz549amhoUO/evfXk\n",
              "k09qypQpior6Qn81CAAAbrNuF/v8+fOaP39+0Lp//vOfeuCBB0I2FAAAcE637/CXl5fXpXUAAODO\n",
              "1OVP/k1NTWpsbNSlS5d0+PBh2bYtSWpubtbFixcdGxAAAIRWl+O/bds2vfTSSzp9+rRycnI618fE\n",
              "xGjFihWODAcAAEKvy/FftmyZli1bpp/85CcqLi52ciYAAOCgbl/wV1xcrEAgoMbGRrW3t3eu93q9\n",
              "IR0MAAA4o9sX/G3ZskWxsbEaOXKkxo4dq7Fjx2rcuHHX3Hbp0qVKSUmRZVmqqam57j7Lyso0ePBg\n",
              "DRo0SAsXLlRbW1uXngMAAN3X7fg///zz2r9/vz7++GN99NFH+uijj9TU1HTNbefOnau9e/cqOTn5\n",
              "uvurq6tTcXGxKioqVFtbq7Nnz2rTpk03fQ4AAHwx3T7t369fPw0ZMqRL22ZlZd10m+3btysnJ0eJ\n",
              "iYmSpMWLF6ukpETPPPPMDZ+73Wzb1qV2zjoAAEKrV9Q9sizrtr5mt+M/a9YsvfTSS3riiSfUs2fP\n",
              "zvXR0dFfaAC/3x90ZiAlJUV+v/+mz11La2vrVd8s2NHR8YXm+n+X2tuUvvVHIdkXAACfOz7/efW+\n",
              "p8dtfc1un/b/wQ9+oMLCQiUmJiouLk6xsbGKi4tzYrZuW7NmjWJiYoKWqqoqt8cCAOCO0u1P/oFA\n",
              "IKQDeL1enTx5svOxz+fr/MuBGz13LUVFRSosLAxaF6o/S+wVdY+Oz38+JPsCAOBzvaLuue2v6fq3\n",
              "8eTm5mrKlClatWqVEhIStGHDBs2bN++mz12Lx+ORx+MJWhcZGRmSOS3Luu2nZQAAcEK3T/tHREQo\n",
              "MjLyquVaCgoKlJSUpIaGBk2bNk1paWmSpPz8fJWXl0uSUlNTtXr1ak2ePFlpaWmKj49XQUHBTZ8D\n",
              "AABfjGV/fpP+Lvrf+/hfunRJL7/8sjo6OvS9730v5MOFQmFhoUpLS90eAwCAO0a3P/n36dOnc+nX\n",
              "r58KCwu1fft2J2YDAAAO6Hb8/997772nc+fOhWIWAABwG3T7gr+4uLjOmxF8fm//9evXh3YqAADg\n",
              "mG7H/3/v0R8VFaXExMSQXVEPAACc1+34Jycn6z//+U/nLwFxcXHq3bt3qOcCAAAO6Xb8KysrlZub\n",
              "23m//bNnz2rHjh2aOHFiyIcDAACh1+34f351/+TJkyVd+WVg+fLlevfdd0M+HAAACL1uX+1/6dKl\n",
              "zvBL0qRJk3T58uWQDgUAAJzT7fh/6Utf0l//+tfOx7t371afPn1COhQAAHBOt0/7/+pXv9KcOXM6\n",
              "r/APBALauXNnyAcDAADO6Hb8T58+rQMHDujs2bOSpISEBL42FwCAMNLt0/7FxcWKj4/XiBEjNGLE\n",
              "CPXr1y9kX5sLAACcd8u397UsSx0dHaGYBQAA3Abdjn/fvn1VWVnZ+Xjfvn3q27dvSIcCAADO6fa/\n",
              "+f/85z/X7NmzNXToUEnSiRMn9Prrr4d8MAAA4Ixux3/ixIk6duyY/va3v0m68nf+sbGxoZ4LAAA4\n",
              "pNvxl67cz/+xxx4L9SwAAOA2uOUL/gAAQHgh/gAAGIb4AwBgGOIPAIBhiD8AAIYh/gAAGIb4AwBg\n",
              "GOIPAIBhiD8AAIYh/gAAGIb4AwBgGOIPAIBhiD8AAIYh/gAAGMbR+J84cUKTJk1Senq6xo8fryNH\n",
              "jly1TSAQ0HPPPacRI0Zo6NChWrBggT777LPO53/2s58pIyNDo0aN0oQJE1RVVeXkyAAA3PUcjX9B\n",
              "QYEWLVqk48ePa+XKlcrLy7tqm7KyMh08eFAHDx7UsWPHFBERoXXr1kmSampq9Jvf/EZVVVWqqanR\n",
              "kiVLtGTJEidHBgDgrudY/JuamnTgwAHNnz9fkpSbm6v6+nrV1tYGbXfo0CE98sgj6tGjhyzL0owZ\n",
              "M/TKK69IkizLUltbmy5evChJunDhgpKSkpwaGQAAI0Q5teP6+noNGDBAUVFXXsKyLHm9Xvn9fqWl\n",
              "pXVuN3bsWG3cuFFLlixRr1699Nprr8nn80mSHnzwQS1fvlz333+/7r33Xnk8Hr3zzjvXfc3W1la1\n",
              "trYGrevo6Aj9mwMAIIy5fsFfXl6epk+fruzsbGVnZys9Pb3zF4a6ujrt3LlTtbW1amho0PLly/Wt\n",
              "b33ruvtas2aNYmJighauEQAAIJhj8R84cKDOnDmj9vZ2SZJt2/L7/fJ6vUHbWZalVatWqbq6WpWV\n",
              "lcrIyNDw4cMlSTt27NDIkSP15S9/WZL0ne98R/v27Qu6IPB/FRUVqbm5OWjJzMx06i0CABCWHIt/\n",
              "//79NWbMGG3dulXSlZAnJSUFnfKXpMuXL+v8+fOSpHPnzmnt2rVasWKFJCk1NVX79u3Tp59+Kkl6\n",
              "8803lZ6erh49elzzNT0ej6Kjo4OWyMhIp94iAABhybF/85ekjRs3Ki8vTyUlJYqOjtbmzZslSfn5\n",
              "+crJyVFOTo6am5s1depURUREKBAIaNmyZZo5c6Ykafbs2dq/f7/GjRsnj8ejPn366Pe//72TIwMA\n",
              "cNezbNu23R7CSYWFhSotLXV7DAAA7hiuX/AHAABuL+IPAIBhiD8AAIYh/gAAGIb4AwBgGOIPAIBh\n",
              "iD8AAIYh/gAAGIb4AwBgGOIPAIBhiD8AAIYh/gAAGIb4AwBgGOIPAIBhiD8AAIYh/gAAGIb4AwBg\n",
              "GOIPAIBhiD8AAIYh/gAAGIb4AwBgGOIPAIBhiD8AAIYh/gAAGIb4AwBgGOIPAIBhiD8AAIYh/gAA\n",
              "GIb4AwBgGOIPAIBhiD8AAIZxNP4nTpzQpEmTlJ6ervHjx+vIkSNXbRMIBPTcc89pxIgRGjp0qBYs\n",
              "WKDPPvus83m/36+ZM2dqyJAhysjI0Pr1650cGQCAu56j8S8oKNCiRYt0/PhxrVy5Unl5eVdtU1ZW\n",
              "poMHD+rgwYM6duyYIiIitG7dOkmSbduaPXu2nnrqKb3//vs6evSovvnNbzo5MgAAdz3H4t/U1KQD\n",
              "Bw5o/vz5kqTc3FzV19ertrY2aLtDhw7pkUceUY8ePWRZlmbMmKFXXnlFkrR79255PB594xvf6Nw+\n",
              "ISHBqZEBADCCY/Gvr6/XgAEDFBUVJUmyLEter1d+vz9ou7Fjx6q8vFwtLS1qa2vTa6+9Jp/PJ0k6\n",
              "evSo4uPjNW/ePI0ePVqzZ8/WBx98cN3XbG1tVUtLS9DS0dHh1FsEACAsuX7BX15enqZPn67s7Gxl\n",
              "Z2crPT298xeG9vZ2vf322youLlZ1dbWmTZt2w9P+a9asUUxMTNBSVVV1u94KAABhwbH4Dxw4UGfO\n",
              "nFF7e7ukK/9+7/f75fV6g7azLEurVq1SdXW1KisrlZGRoeHDh0uSvF6vRo8e3fn429/+tg4ePKi2\n",
              "trZrvmZRUZGam5uDlszMTKfeIgAAYcmx+Pfv319jxozR1q1bJUk7duxQUlKS0tLSgra7fPmyzp8/\n",
              "L0k6d+6c1q5dqxUrVkiSZsyYoYaGBn344YeSpLfeekvDhg3TPffcc83X9Hg8io6ODloiIyOdeosA\n",
              "AISlKCd3vnHjRuXl5amkpETR0dHavHmzJCk/P185OTnKyclRc3Ozpk6dqoiICAUCAS1btkwzZ86U\n",
              "JPXp00cbNmzQ1772Ndm2rZiYGL366qtOjgwAwF3Psm3bdnsIJxUWFqq0tNTtMQAAuGO4fsEfAAC4\n",
              "vYg/AACGIf4AABiG+AMAYBjiDwCAYYg/AACGIf4AABiG+AMAYBjiDwCAYYg/AACGIf4AABiG+AMA\n",
              "YBjiDwCAYYg/AACGIf4AABiG+AMAYBjiDwCAYYg/AACGIf4AABiG+AMAYBjiDwCAYYg/AACGIf4A\n",
              "ABiG+AMAYBjiDwCAYSzbtm23h3DSnDlzlJKSEpJ9dXR0qKqqSpmZmYqMjAzJPk3DMbx1HMNbxzG8\n",
              "dRzDW+fUMUxOTtayZctuuM1dH/9QamlpUUxMjJqbmxUdHe32OGGJY3jrOIa3jmN46ziGt87NY8hp\n",
              "fwAADEP8AQAwDPEHAMAwxL8bPB6PfvzjH8vj8bg9StjiGN46juGt4xjeOo7hrXPzGHLBHwAAhuGT\n",
              "PwAAhiH+AAAYhvgDAGAY4t9FJ06c0KRJk5Senq7x48fryJEjbo8Udi5fvqxZs2YpPT1dDz74oB59\n",
              "9FHV1ta6PVZY2rx5syzL0htvvOH2KGGptbVVS5Ys0eDBgzVy5EjNnz/f7ZHCzltvvaUxY8Zo1KhR\n",
              "GjFihLZs2eL2SHe8pUuXKiUlRZZlqaampnO9K32x0SUPPfSQvXnzZtu2bfuPf/yjPW7cOHcHCkOX\n",
              "Ll2yd+3aZQcCAdu2bXv9+vV2dna2u0OFobq6OnvixIn2hAkT7Ndff93tccLSs88+ay9ZsqTzZ/HM\n",
              "mTMuTxReAoGAHRcXZx86dMi27Ss/kx6Px25paXF5sjvbnj177Pr6ejs5Odmurq7uXO9GX/jk3wVN\n",
              "TU06cOBA56eD3Nxc1dfX86m1m3r27KnHHntMlmVJkiZMmCCfz+fuUGEmEAgoPz9f69ev50+svqCL\n",
              "Fy+qrKxML7zwQufPYmJiostThR/LsnThwgVJV25Te9999/EzeRNZWVlKSkoKWudWX4h/F9TX12vA\n",
              "gAGKioqSdOWH3uv1yu/3uzxZeFu3bp0ef/xxt8cIK6WlpZo8ebLGjh3r9ihh6+TJk7r33ntVUlKi\n",
              "cePG6Stf+Yp2797t9lhhxbIs/eEPf9CcOXOUnJysKVOmaMuWLerRo4fbo4Udt/oS5ejegesoKSlR\n",
              "bW0t/9Pthn/961/asWOH3nnnHbdHCWvt7e06deqUMjIytHbtWlVXV+vRRx/VkSNHlJCQ4PZ4YaG9\n",
              "vV0//elPtXPnTmVlZWn//v3KycnR4cOH1a9fP7fHQxfwyb8LBg4cqDNnzqi9vV2SZNu2/H6/vF6v\n",
              "y5OFpxdffFE7d+7Un/70J/Xu3dvtccJGRUWFfD6fBg8erJSUFL377rtatGiRfvvb37o9Wljxer2K\n",
              "iIjQk08+KUkaPXq07r//fh0+fNjlycJHTU2NTp8+raysLEnS+PHjlZSUpOrqapcnCz9u9YX4d0H/\n",
              "/v01ZswYbd26VZK0Y8cOJSUlKS0tzeXJwk9paam2bdumv/zlL4qNjXV7nLDy9NNP68yZM/L5fPL5\n",
              "fJowYYI2bdqkp59+2u3Rwkq/fv308MMP689//rMkqa6uTnV1dRo2bJjLk4WPz4N17NgxSVJtba1O\n",
              "njypIUOGuDxZ+HGrL9zet4vef/995eXl6eOPP1Z0dLQ2b96skSNHuj1WWGloaNDAgQOVmpqqvn37\n",
              "Srpyb+u///3vLk8WnqZOnapnn31Ws2bNcnuUsPPBBx9owYIFOnfunCIiIvSjH/1Iubm5bo8VVrZt\n",
              "26aSkhJFREQoEAioqKhITzzxhNtj3dEKCgq0a9cuNTY26r777lPfvn1VW1vrSl+IPwAAhuG0PwAA\n",
              "hiH+AAAYhvgDAGAY4g8gpPgeDODOR/wBhFRBQYEWLVqk48ePa+XKlcrLy3N7JAD/h6v9AYRMU1OT\n",
              "0tLS9O9//1tRUVGybVsDBgzQ3r17uS8GcAfhkz+AkOF7MIDwQPwBADAM8QcQMnwPBhAeiD+AkOF7\n",
              "MIDwwAV/AEKK78EA7nzEHwAAw3DaHwAAwxB/AAAMQ/wBADAM8QcAwDDEHwAAwxB/AAAMQ/wBADAM\n",
              "8QcAwDDEHwAAwxB/AAAM81+lopVTPcjUMAAAAABJRU5ErkJggg==\n",
              "\">\n",
              "        \n",
              "      </div>\n",
              "      <script></script>\n",
              "      <script type=\"text/javascript\">\n",
              "        (() => {\n",
              "          const chartElement = document.getElementById(\"chart-6f63e25c-041d-4904-bf4a-98977d0e2b20\");\n",
              "          async function getCodeForChartHandler(event) {\n",
              "            const chartCodeResponse =  await google.colab.kernel.invokeFunction(\n",
              "                'getCodeForChart', [\"chart-6f63e25c-041d-4904-bf4a-98977d0e2b20\"], {});\n",
              "            const responseJson = chartCodeResponse.data['application/json'];\n",
              "            await google.colab.notebook.addCell(responseJson.code, 'code');\n",
              "          }\n",
              "          chartElement.onclick = getCodeForChartHandler;\n",
              "        })();\n",
              "      </script>\n",
              "      <style>\n",
              "        .colab-quickchart-chart-with-code  {\n",
              "            display: block;\n",
              "            float: left;\n",
              "            border: 1px solid transparent;\n",
              "        }\n",
              "\n",
              "        .colab-quickchart-chart-with-code:hover {\n",
              "            cursor: pointer;\n",
              "            border: 1px solid #aaa;\n",
              "        }\n",
              "      </style>"
            ]
          },
          "metadata": {}
        }
      ],
      "source": [
        "pd.Series(np.linspace(0, 10, num=5)).to_frame() #.to_frame도 df로 바꿀 수 있음"
      ]
    },
    {
      "cell_type": "markdown",
      "metadata": {
        "id": "OvrnjE4n_7n3"
      },
      "source": [
        "## Creating a `DataFrame` from Python Data Structures\n",
        "### From a dictionary of list-like structures\n",
        "The dictionary values can be lists, NumPy arrays, etc. as long as they have length (generators don't have length so we can't use them here):"
      ]
    },
    {
      "cell_type": "code",
      "source": [
        "?pd.date_range"
      ],
      "metadata": {
        "id": "B_ZfaoKLSudk"
      },
      "execution_count": 12,
      "outputs": []
    },
    {
      "cell_type": "code",
      "source": [
        "pd.date_range(\n",
        "        end=dt.date(2019, 4, 21),\n",
        "        freq='1D',\n",
        "        periods=5,\n",
        "        name='date'\n",
        "    )"
      ],
      "metadata": {
        "id": "2MWxZHU1Sq4R",
        "outputId": "037884bb-8853-459a-863d-da7b4cc1d8ec",
        "colab": {
          "base_uri": "https://localhost:8080/"
        }
      },
      "execution_count": 13,
      "outputs": [
        {
          "output_type": "execute_result",
          "data": {
            "text/plain": [
              "DatetimeIndex(['2019-04-17', '2019-04-18', '2019-04-19', '2019-04-20',\n",
              "               '2019-04-21'],\n",
              "              dtype='datetime64[ns]', name='date', freq='D')"
            ]
          },
          "metadata": {},
          "execution_count": 13
        }
      ]
    },
    {
      "cell_type": "code",
      "execution_count": 14,
      "metadata": {
        "id": "c_nJ0WoC_7n4",
        "outputId": "10a4e729-67ce-4160-f94e-8055a3e86f2e",
        "colab": {
          "base_uri": "https://localhost:8080/",
          "height": 237
        }
      },
      "outputs": [
        {
          "output_type": "execute_result",
          "data": {
            "text/plain": [
              "              random  text  truth\n",
              "date                             \n",
              "2019-04-17  0.548814   hot  False\n",
              "2019-04-18  0.715189  warm   True\n",
              "2019-04-19  0.602763  cool   True\n",
              "2019-04-20  0.544883  cold  False\n",
              "2019-04-21  0.423655  None   True"
            ],
            "text/html": [
              "\n",
              "  <div id=\"df-edd9b411-d769-4e0c-9d3e-fcf198d2ba41\" class=\"colab-df-container\">\n",
              "    <div>\n",
              "<style scoped>\n",
              "    .dataframe tbody tr th:only-of-type {\n",
              "        vertical-align: middle;\n",
              "    }\n",
              "\n",
              "    .dataframe tbody tr th {\n",
              "        vertical-align: top;\n",
              "    }\n",
              "\n",
              "    .dataframe thead th {\n",
              "        text-align: right;\n",
              "    }\n",
              "</style>\n",
              "<table border=\"1\" class=\"dataframe\">\n",
              "  <thead>\n",
              "    <tr style=\"text-align: right;\">\n",
              "      <th></th>\n",
              "      <th>random</th>\n",
              "      <th>text</th>\n",
              "      <th>truth</th>\n",
              "    </tr>\n",
              "    <tr>\n",
              "      <th>date</th>\n",
              "      <th></th>\n",
              "      <th></th>\n",
              "      <th></th>\n",
              "    </tr>\n",
              "  </thead>\n",
              "  <tbody>\n",
              "    <tr>\n",
              "      <th>2019-04-17</th>\n",
              "      <td>0.548814</td>\n",
              "      <td>hot</td>\n",
              "      <td>False</td>\n",
              "    </tr>\n",
              "    <tr>\n",
              "      <th>2019-04-18</th>\n",
              "      <td>0.715189</td>\n",
              "      <td>warm</td>\n",
              "      <td>True</td>\n",
              "    </tr>\n",
              "    <tr>\n",
              "      <th>2019-04-19</th>\n",
              "      <td>0.602763</td>\n",
              "      <td>cool</td>\n",
              "      <td>True</td>\n",
              "    </tr>\n",
              "    <tr>\n",
              "      <th>2019-04-20</th>\n",
              "      <td>0.544883</td>\n",
              "      <td>cold</td>\n",
              "      <td>False</td>\n",
              "    </tr>\n",
              "    <tr>\n",
              "      <th>2019-04-21</th>\n",
              "      <td>0.423655</td>\n",
              "      <td>None</td>\n",
              "      <td>True</td>\n",
              "    </tr>\n",
              "  </tbody>\n",
              "</table>\n",
              "</div>\n",
              "    <div class=\"colab-df-buttons\">\n",
              "\n",
              "  <div class=\"colab-df-container\">\n",
              "    <button class=\"colab-df-convert\" onclick=\"convertToInteractive('df-edd9b411-d769-4e0c-9d3e-fcf198d2ba41')\"\n",
              "            title=\"Convert this dataframe to an interactive table.\"\n",
              "            style=\"display:none;\">\n",
              "\n",
              "  <svg xmlns=\"http://www.w3.org/2000/svg\" height=\"24px\" viewBox=\"0 -960 960 960\">\n",
              "    <path d=\"M120-120v-720h720v720H120Zm60-500h600v-160H180v160Zm220 220h160v-160H400v160Zm0 220h160v-160H400v160ZM180-400h160v-160H180v160Zm440 0h160v-160H620v160ZM180-180h160v-160H180v160Zm440 0h160v-160H620v160Z\"/>\n",
              "  </svg>\n",
              "    </button>\n",
              "\n",
              "  <style>\n",
              "    .colab-df-container {\n",
              "      display:flex;\n",
              "      gap: 12px;\n",
              "    }\n",
              "\n",
              "    .colab-df-convert {\n",
              "      background-color: #E8F0FE;\n",
              "      border: none;\n",
              "      border-radius: 50%;\n",
              "      cursor: pointer;\n",
              "      display: none;\n",
              "      fill: #1967D2;\n",
              "      height: 32px;\n",
              "      padding: 0 0 0 0;\n",
              "      width: 32px;\n",
              "    }\n",
              "\n",
              "    .colab-df-convert:hover {\n",
              "      background-color: #E2EBFA;\n",
              "      box-shadow: 0px 1px 2px rgba(60, 64, 67, 0.3), 0px 1px 3px 1px rgba(60, 64, 67, 0.15);\n",
              "      fill: #174EA6;\n",
              "    }\n",
              "\n",
              "    .colab-df-buttons div {\n",
              "      margin-bottom: 4px;\n",
              "    }\n",
              "\n",
              "    [theme=dark] .colab-df-convert {\n",
              "      background-color: #3B4455;\n",
              "      fill: #D2E3FC;\n",
              "    }\n",
              "\n",
              "    [theme=dark] .colab-df-convert:hover {\n",
              "      background-color: #434B5C;\n",
              "      box-shadow: 0px 1px 3px 1px rgba(0, 0, 0, 0.15);\n",
              "      filter: drop-shadow(0px 1px 2px rgba(0, 0, 0, 0.3));\n",
              "      fill: #FFFFFF;\n",
              "    }\n",
              "  </style>\n",
              "\n",
              "    <script>\n",
              "      const buttonEl =\n",
              "        document.querySelector('#df-edd9b411-d769-4e0c-9d3e-fcf198d2ba41 button.colab-df-convert');\n",
              "      buttonEl.style.display =\n",
              "        google.colab.kernel.accessAllowed ? 'block' : 'none';\n",
              "\n",
              "      async function convertToInteractive(key) {\n",
              "        const element = document.querySelector('#df-edd9b411-d769-4e0c-9d3e-fcf198d2ba41');\n",
              "        const dataTable =\n",
              "          await google.colab.kernel.invokeFunction('convertToInteractive',\n",
              "                                                    [key], {});\n",
              "        if (!dataTable) return;\n",
              "\n",
              "        const docLinkHtml = 'Like what you see? Visit the ' +\n",
              "          '<a target=\"_blank\" href=https://colab.research.google.com/notebooks/data_table.ipynb>data table notebook</a>'\n",
              "          + ' to learn more about interactive tables.';\n",
              "        element.innerHTML = '';\n",
              "        dataTable['output_type'] = 'display_data';\n",
              "        await google.colab.output.renderOutput(dataTable, element);\n",
              "        const docLink = document.createElement('div');\n",
              "        docLink.innerHTML = docLinkHtml;\n",
              "        element.appendChild(docLink);\n",
              "      }\n",
              "    </script>\n",
              "  </div>\n",
              "\n",
              "\n",
              "<div id=\"df-4e516692-5dbb-434d-a887-ff80bd958e5c\">\n",
              "  <button class=\"colab-df-quickchart\" onclick=\"quickchart('df-4e516692-5dbb-434d-a887-ff80bd958e5c')\"\n",
              "            title=\"Suggest charts.\"\n",
              "            style=\"display:none;\">\n",
              "\n",
              "<svg xmlns=\"http://www.w3.org/2000/svg\" height=\"24px\"viewBox=\"0 0 24 24\"\n",
              "     width=\"24px\">\n",
              "    <g>\n",
              "        <path d=\"M19 3H5c-1.1 0-2 .9-2 2v14c0 1.1.9 2 2 2h14c1.1 0 2-.9 2-2V5c0-1.1-.9-2-2-2zM9 17H7v-7h2v7zm4 0h-2V7h2v10zm4 0h-2v-4h2v4z\"/>\n",
              "    </g>\n",
              "</svg>\n",
              "  </button>\n",
              "\n",
              "<style>\n",
              "  .colab-df-quickchart {\n",
              "      --bg-color: #E8F0FE;\n",
              "      --fill-color: #1967D2;\n",
              "      --hover-bg-color: #E2EBFA;\n",
              "      --hover-fill-color: #174EA6;\n",
              "      --disabled-fill-color: #AAA;\n",
              "      --disabled-bg-color: #DDD;\n",
              "  }\n",
              "\n",
              "  [theme=dark] .colab-df-quickchart {\n",
              "      --bg-color: #3B4455;\n",
              "      --fill-color: #D2E3FC;\n",
              "      --hover-bg-color: #434B5C;\n",
              "      --hover-fill-color: #FFFFFF;\n",
              "      --disabled-bg-color: #3B4455;\n",
              "      --disabled-fill-color: #666;\n",
              "  }\n",
              "\n",
              "  .colab-df-quickchart {\n",
              "    background-color: var(--bg-color);\n",
              "    border: none;\n",
              "    border-radius: 50%;\n",
              "    cursor: pointer;\n",
              "    display: none;\n",
              "    fill: var(--fill-color);\n",
              "    height: 32px;\n",
              "    padding: 0;\n",
              "    width: 32px;\n",
              "  }\n",
              "\n",
              "  .colab-df-quickchart:hover {\n",
              "    background-color: var(--hover-bg-color);\n",
              "    box-shadow: 0 1px 2px rgba(60, 64, 67, 0.3), 0 1px 3px 1px rgba(60, 64, 67, 0.15);\n",
              "    fill: var(--button-hover-fill-color);\n",
              "  }\n",
              "\n",
              "  .colab-df-quickchart-complete:disabled,\n",
              "  .colab-df-quickchart-complete:disabled:hover {\n",
              "    background-color: var(--disabled-bg-color);\n",
              "    fill: var(--disabled-fill-color);\n",
              "    box-shadow: none;\n",
              "  }\n",
              "\n",
              "  .colab-df-spinner {\n",
              "    border: 2px solid var(--fill-color);\n",
              "    border-color: transparent;\n",
              "    border-bottom-color: var(--fill-color);\n",
              "    animation:\n",
              "      spin 1s steps(1) infinite;\n",
              "  }\n",
              "\n",
              "  @keyframes spin {\n",
              "    0% {\n",
              "      border-color: transparent;\n",
              "      border-bottom-color: var(--fill-color);\n",
              "      border-left-color: var(--fill-color);\n",
              "    }\n",
              "    20% {\n",
              "      border-color: transparent;\n",
              "      border-left-color: var(--fill-color);\n",
              "      border-top-color: var(--fill-color);\n",
              "    }\n",
              "    30% {\n",
              "      border-color: transparent;\n",
              "      border-left-color: var(--fill-color);\n",
              "      border-top-color: var(--fill-color);\n",
              "      border-right-color: var(--fill-color);\n",
              "    }\n",
              "    40% {\n",
              "      border-color: transparent;\n",
              "      border-right-color: var(--fill-color);\n",
              "      border-top-color: var(--fill-color);\n",
              "    }\n",
              "    60% {\n",
              "      border-color: transparent;\n",
              "      border-right-color: var(--fill-color);\n",
              "    }\n",
              "    80% {\n",
              "      border-color: transparent;\n",
              "      border-right-color: var(--fill-color);\n",
              "      border-bottom-color: var(--fill-color);\n",
              "    }\n",
              "    90% {\n",
              "      border-color: transparent;\n",
              "      border-bottom-color: var(--fill-color);\n",
              "    }\n",
              "  }\n",
              "</style>\n",
              "\n",
              "  <script>\n",
              "    async function quickchart(key) {\n",
              "      const quickchartButtonEl =\n",
              "        document.querySelector('#' + key + ' button');\n",
              "      quickchartButtonEl.disabled = true;  // To prevent multiple clicks.\n",
              "      quickchartButtonEl.classList.add('colab-df-spinner');\n",
              "      try {\n",
              "        const charts = await google.colab.kernel.invokeFunction(\n",
              "            'suggestCharts', [key], {});\n",
              "      } catch (error) {\n",
              "        console.error('Error during call to suggestCharts:', error);\n",
              "      }\n",
              "      quickchartButtonEl.classList.remove('colab-df-spinner');\n",
              "      quickchartButtonEl.classList.add('colab-df-quickchart-complete');\n",
              "    }\n",
              "    (() => {\n",
              "      let quickchartButtonEl =\n",
              "        document.querySelector('#df-4e516692-5dbb-434d-a887-ff80bd958e5c button');\n",
              "      quickchartButtonEl.style.display =\n",
              "        google.colab.kernel.accessAllowed ? 'block' : 'none';\n",
              "    })();\n",
              "  </script>\n",
              "</div>\n",
              "    </div>\n",
              "  </div>\n"
            ]
          },
          "metadata": {},
          "execution_count": 14
        }
      ],
      "source": [
        "np.random.seed(0) # set seed so result is reproducible\n",
        "pd.DataFrame(\n",
        "    {\n",
        "        'random': np.random.rand(5),\n",
        "        'text': ['hot', 'warm', 'cool', 'cold', None],\n",
        "        'truth': [np.random.choice([True, False]) for _ in range(5)]\n",
        "    },\n",
        "    index=pd.date_range(\n",
        "        end=dt.date(2019, 4, 21),\n",
        "        freq='1D',\n",
        "        periods=5,\n",
        "        name='date'\n",
        "    )\n",
        ")"
      ]
    },
    {
      "cell_type": "markdown",
      "metadata": {
        "id": "hNgA7jIz_7n5"
      },
      "source": [
        "### From a list of dictionaries"
      ]
    },
    {
      "cell_type": "code",
      "execution_count": null,
      "metadata": {
        "id": "0ZxwCQUn_7n6",
        "outputId": "311a8217-a564-4c08-f34e-4c74f6351123"
      },
      "outputs": [
        {
          "data": {
            "text/html": [
              "<div>\n",
              "<style scoped>\n",
              "    .dataframe tbody tr th:only-of-type {\n",
              "        vertical-align: middle;\n",
              "    }\n",
              "\n",
              "    .dataframe tbody tr th {\n",
              "        vertical-align: top;\n",
              "    }\n",
              "\n",
              "    .dataframe thead th {\n",
              "        text-align: right;\n",
              "    }\n",
              "</style>\n",
              "<table border=\"1\" class=\"dataframe\">\n",
              "  <thead>\n",
              "    <tr style=\"text-align: right;\">\n",
              "      <th></th>\n",
              "      <th>mag</th>\n",
              "      <th>place</th>\n",
              "    </tr>\n",
              "  </thead>\n",
              "  <tbody>\n",
              "    <tr>\n",
              "      <th>0</th>\n",
              "      <td>5.2</td>\n",
              "      <td>California</td>\n",
              "    </tr>\n",
              "    <tr>\n",
              "      <th>1</th>\n",
              "      <td>1.2</td>\n",
              "      <td>Alaska</td>\n",
              "    </tr>\n",
              "    <tr>\n",
              "      <th>2</th>\n",
              "      <td>0.2</td>\n",
              "      <td>California</td>\n",
              "    </tr>\n",
              "  </tbody>\n",
              "</table>\n",
              "</div>"
            ],
            "text/plain": [
              "   mag       place\n",
              "0  5.2  California\n",
              "1  1.2      Alaska\n",
              "2  0.2  California"
            ]
          },
          "execution_count": 5,
          "metadata": {},
          "output_type": "execute_result"
        }
      ],
      "source": [
        "pd.DataFrame([\n",
        "    {'mag': 5.2, 'place': 'California'},\n",
        "    {'mag': 1.2, 'place': 'Alaska'},\n",
        "    {'mag': 0.2, 'place': 'California'},\n",
        "])"
      ]
    },
    {
      "cell_type": "markdown",
      "metadata": {
        "id": "jYCy6umM_7n7"
      },
      "source": [
        "### From a list of tuples"
      ]
    },
    {
      "cell_type": "code",
      "execution_count": null,
      "metadata": {
        "id": "33CUny0w_7n7",
        "outputId": "12e7daff-1187-4744-b061-4559f2408f7b"
      },
      "outputs": [
        {
          "data": {
            "text/plain": [
              "[(0, 0, 0), (1, 1, 1), (2, 4, 8), (3, 9, 27), (4, 16, 64)]"
            ]
          },
          "execution_count": 6,
          "metadata": {},
          "output_type": "execute_result"
        }
      ],
      "source": [
        "list_of_tuples = [(n, n**2, n**3) for n in range(5)]\n",
        "list_of_tuples"
      ]
    },
    {
      "cell_type": "code",
      "execution_count": null,
      "metadata": {
        "id": "0dMuF2QL_7n8",
        "outputId": "d5cad866-fec8-414a-cd3e-c1d8587693f6"
      },
      "outputs": [
        {
          "data": {
            "text/html": [
              "<div>\n",
              "<style scoped>\n",
              "    .dataframe tbody tr th:only-of-type {\n",
              "        vertical-align: middle;\n",
              "    }\n",
              "\n",
              "    .dataframe tbody tr th {\n",
              "        vertical-align: top;\n",
              "    }\n",
              "\n",
              "    .dataframe thead th {\n",
              "        text-align: right;\n",
              "    }\n",
              "</style>\n",
              "<table border=\"1\" class=\"dataframe\">\n",
              "  <thead>\n",
              "    <tr style=\"text-align: right;\">\n",
              "      <th></th>\n",
              "      <th>n</th>\n",
              "      <th>n_squared</th>\n",
              "      <th>n_cubed</th>\n",
              "    </tr>\n",
              "  </thead>\n",
              "  <tbody>\n",
              "    <tr>\n",
              "      <th>0</th>\n",
              "      <td>0</td>\n",
              "      <td>0</td>\n",
              "      <td>0</td>\n",
              "    </tr>\n",
              "    <tr>\n",
              "      <th>1</th>\n",
              "      <td>1</td>\n",
              "      <td>1</td>\n",
              "      <td>1</td>\n",
              "    </tr>\n",
              "    <tr>\n",
              "      <th>2</th>\n",
              "      <td>2</td>\n",
              "      <td>4</td>\n",
              "      <td>8</td>\n",
              "    </tr>\n",
              "    <tr>\n",
              "      <th>3</th>\n",
              "      <td>3</td>\n",
              "      <td>9</td>\n",
              "      <td>27</td>\n",
              "    </tr>\n",
              "    <tr>\n",
              "      <th>4</th>\n",
              "      <td>4</td>\n",
              "      <td>16</td>\n",
              "      <td>64</td>\n",
              "    </tr>\n",
              "  </tbody>\n",
              "</table>\n",
              "</div>"
            ],
            "text/plain": [
              "   n  n_squared  n_cubed\n",
              "0  0          0        0\n",
              "1  1          1        1\n",
              "2  2          4        8\n",
              "3  3          9       27\n",
              "4  4         16       64"
            ]
          },
          "execution_count": 7,
          "metadata": {},
          "output_type": "execute_result"
        }
      ],
      "source": [
        "pd.DataFrame(\n",
        "    list_of_tuples,\n",
        "    columns=['n', 'n_squared', 'n_cubed']\n",
        ")"
      ]
    },
    {
      "cell_type": "markdown",
      "metadata": {
        "id": "xEMschvl_7n8"
      },
      "source": [
        "### From a NumPy array"
      ]
    },
    {
      "cell_type": "code",
      "execution_count": null,
      "metadata": {
        "id": "Rr-6cA5A_7n9",
        "outputId": "77732645-c8b8-4215-c5f6-8c365ec0442a"
      },
      "outputs": [
        {
          "data": {
            "text/html": [
              "<div>\n",
              "<style scoped>\n",
              "    .dataframe tbody tr th:only-of-type {\n",
              "        vertical-align: middle;\n",
              "    }\n",
              "\n",
              "    .dataframe tbody tr th {\n",
              "        vertical-align: top;\n",
              "    }\n",
              "\n",
              "    .dataframe thead th {\n",
              "        text-align: right;\n",
              "    }\n",
              "</style>\n",
              "<table border=\"1\" class=\"dataframe\">\n",
              "  <thead>\n",
              "    <tr style=\"text-align: right;\">\n",
              "      <th></th>\n",
              "      <th>n</th>\n",
              "      <th>n_squared</th>\n",
              "      <th>n_cubed</th>\n",
              "    </tr>\n",
              "  </thead>\n",
              "  <tbody>\n",
              "    <tr>\n",
              "      <th>0</th>\n",
              "      <td>0</td>\n",
              "      <td>0</td>\n",
              "      <td>0</td>\n",
              "    </tr>\n",
              "    <tr>\n",
              "      <th>1</th>\n",
              "      <td>1</td>\n",
              "      <td>1</td>\n",
              "      <td>1</td>\n",
              "    </tr>\n",
              "    <tr>\n",
              "      <th>2</th>\n",
              "      <td>2</td>\n",
              "      <td>4</td>\n",
              "      <td>8</td>\n",
              "    </tr>\n",
              "    <tr>\n",
              "      <th>3</th>\n",
              "      <td>3</td>\n",
              "      <td>9</td>\n",
              "      <td>27</td>\n",
              "    </tr>\n",
              "    <tr>\n",
              "      <th>4</th>\n",
              "      <td>4</td>\n",
              "      <td>16</td>\n",
              "      <td>64</td>\n",
              "    </tr>\n",
              "  </tbody>\n",
              "</table>\n",
              "</div>"
            ],
            "text/plain": [
              "   n  n_squared  n_cubed\n",
              "0  0          0        0\n",
              "1  1          1        1\n",
              "2  2          4        8\n",
              "3  3          9       27\n",
              "4  4         16       64"
            ]
          },
          "execution_count": 8,
          "metadata": {},
          "output_type": "execute_result"
        }
      ],
      "source": [
        "pd.DataFrame(\n",
        "    np.array([\n",
        "        [0, 0, 0],\n",
        "        [1, 1, 1],\n",
        "        [2, 4, 8],\n",
        "        [3, 9, 27],\n",
        "        [4, 16, 64]\n",
        "    ]), columns=['n', 'n_squared', 'n_cubed']\n",
        ")"
      ]
    },
    {
      "cell_type": "markdown",
      "metadata": {
        "id": "LXuY-DfZ_7n9"
      },
      "source": [
        "## Creating a `DataFrame` object from the contents of a CSV File\n",
        "\n",
        "### Finding information on the file before reading it in\n",
        "Before attempting to read in a file, we can use the command line to see important information about the file that may determine how we read it in. We can run command line code from Jupyter Notebooks (thanks to IPython) by using `!` before the code.\n",
        "\n",
        "#### Number of lines (row count)\n",
        "For example, we can find out how many lines are in the file by using the `wc` utility (word count) and counting lines in the file (`-l`). The file has 9,333 lines:"
      ]
    },
    {
      "cell_type": "code",
      "execution_count": null,
      "metadata": {
        "id": "efjOqjoj_7n9",
        "outputId": "7a13c587-a61b-40df-fc8f-e5d51361c25e"
      },
      "outputs": [
        {
          "name": "stdout",
          "output_type": "stream",
          "text": [
            "9333 data/earthquakes.csv\n"
          ]
        }
      ],
      "source": [
        "!wc -l data/earthquakes.csv"
      ]
    },
    {
      "cell_type": "markdown",
      "metadata": {
        "id": "q1fogBUm_7n9"
      },
      "source": [
        "**Windows users**: if the above doesn't work for you (depends on your setup), then use this instead:\n",
        "\n",
        "```python\n",
        "!find /c /v \"\" data\\earthquakes.csv\n",
        "```\n",
        "\n",
        "\n",
        "\n",
        "#### File size\n",
        "We can find the file size by using `ls` to list the files in the `data` directory, and passing in the flags `-lh` to include the file size in human readable format. Then we use `grep` to find the file in question. Note that `|` passes the result of `ls` to `grep`. The `grep` utility is used for finding items that match patterns.\n",
        "\n",
        "This tells us the file is 3.4 MB:"
      ]
    },
    {
      "cell_type": "code",
      "execution_count": null,
      "metadata": {
        "id": "ouM7dGS1_7n-",
        "outputId": "eadb4010-e5eb-4e18-b563-1176b7fa508c"
      },
      "outputs": [
        {
          "name": "stdout",
          "output_type": "stream",
          "text": [
            "-rw-r--r-- 1 stefanie stefanie 3.4M Aug 24 17:39 earthquakes.csv\n"
          ]
        }
      ],
      "source": [
        "!ls -lh data | grep earthquakes.csv"
      ]
    },
    {
      "cell_type": "markdown",
      "metadata": {
        "id": "IKtiiU3t_7n-"
      },
      "source": [
        "**Windows users**: if the above doesn't work for you (depends on your setup), then use this instead:\n",
        "\n",
        "```python\n",
        "!dir data | findstr \"earthquakes.csv\"\n",
        "```\n",
        "\n",
        "We can even capture the result of a command and use it in our Python code:"
      ]
    },
    {
      "cell_type": "code",
      "execution_count": 15,
      "metadata": {
        "id": "R7zLDMN-_7n_",
        "outputId": "aa51830a-c81f-4ec4-e60f-41337dda4baa",
        "colab": {
          "base_uri": "https://localhost:8080/"
        }
      },
      "outputs": [
        {
          "output_type": "execute_result",
          "data": {
            "text/plain": [
              "['-rw------- 1 root root 3.4M Sep 20 07:14 earthquakes.csv']"
            ]
          },
          "metadata": {},
          "execution_count": 15
        }
      ],
      "source": [
        "files = !ls -lh data\n",
        "[file for file in files if 'earthquake' in file]"
      ]
    },
    {
      "cell_type": "markdown",
      "metadata": {
        "id": "sa0b8ten_7n_"
      },
      "source": [
        "**Windows users**: if the above doesn't work for you (depends on your setup), then use this instead:\n",
        "\n",
        "```python\n",
        "files = !dir data\n",
        "[file for file in files if 'earthquake' in file]\n",
        "```\n",
        "\n",
        "\n",
        "#### Examining a few rows\n",
        "We can use `head` to look at the top `n` rows of the file. With the `-n` flag, we can specify how many. This shows use that the first row of the file contains headers and that it is comma-separated (just because the file extension is `.csv` doesn't it contains comma-separated values):"
      ]
    },
    {
      "cell_type": "code",
      "execution_count": 16,
      "metadata": {
        "id": "4tRVEOoC_7oA",
        "outputId": "01377842-6ecc-4eab-942c-f2fda97937a4",
        "colab": {
          "base_uri": "https://localhost:8080/"
        }
      },
      "outputs": [
        {
          "output_type": "stream",
          "name": "stdout",
          "text": [
            "alert,cdi,code,detail,dmin,felt,gap,ids,mag,magType,mmi,net,nst,place,rms,sig,sources,status,time,title,tsunami,type,types,tz,updated,url\n",
            ",,37389218,https://earthquake.usgs.gov/fdsnws/event/1/query?eventid=ci37389218&format=geojson,0.008693,,85.0,\",ci37389218,\",1.35,ml,,ci,26.0,\"9km NE of Aguanga, CA\",0.19,28,\",ci,\",automatic,1539475168010,\"M 1.4 - 9km NE of Aguanga, CA\",0,earthquake,\",geoserve,nearby-cities,origin,phase-data,\",-480.0,1539475395144,https://earthquake.usgs.gov/earthquakes/eventpage/ci37389218\n"
          ]
        }
      ],
      "source": [
        "!head -n 2 data/earthquakes.csv #몇줄 보여줄지"
      ]
    },
    {
      "cell_type": "markdown",
      "metadata": {
        "id": "YhTyZDw4_7oA"
      },
      "source": [
        "**Windows users**: if the above doesn't work for you (depends on your setup), then use this instead:\n",
        "\n",
        "```python\n",
        "n = 2\n",
        "with open('data/earthquakes.csv', 'r') as file:\n",
        "    for _ in range(n):\n",
        "        print(file.readline(), end='\\r')\n",
        "```\n",
        "\n",
        "\n",
        "Just like `head` gives rows from the top, `tail` gives rows from the bottom. This can help us check that there is no extraneous data on the bottom of the field, like perhaps some metadata about the fields that actually isn't part of the dataset:"
      ]
    },
    {
      "cell_type": "code",
      "execution_count": 17,
      "metadata": {
        "id": "CKEoSmiY_7oB",
        "outputId": "27364272-426d-48e3-9cd8-48ae7d8b5698",
        "colab": {
          "base_uri": "https://localhost:8080/"
        }
      },
      "outputs": [
        {
          "output_type": "stream",
          "name": "stdout",
          "text": [
            ",,38063935,https://earthquake.usgs.gov/fdsnws/event/1/query?eventid=ci38063935&format=geojson,0.01698,,39.0,\",ci38063935,\",0.66,ml,,ci,24.0,\"9km NE of Aguanga, CA\",0.1,7,\",ci,\",reviewed,1537228864470,\"M 0.7 - 9km NE of Aguanga, CA\",0,earthquake,\",focal-mechanism,geoserve,nearby-cities,origin,phase-data,scitech-link,\",-480.0,1537305830770,https://earthquake.usgs.gov/earthquakes/eventpage/ci38063935\n"
          ]
        }
      ],
      "source": [
        "!tail -n 1 data/earthquakes.csv"
      ]
    },
    {
      "cell_type": "markdown",
      "metadata": {
        "id": "AO9LhcYO_7oB"
      },
      "source": [
        "**Windows users**: if the above doesn't work for you (depends on your setup), then use this instead:\n",
        "\n",
        "```python\n",
        "import os\n",
        "\n",
        "with open('data/earthquakes.csv', 'rb') as file:\n",
        "    file.seek(0, os.SEEK_END)\n",
        "    while file.read(1) != b'\\n':\n",
        "        file.seek(-2, os.SEEK_CUR)\n",
        "    print(file.readline().decode())\n",
        "```\n",
        "\n",
        "*Note*: To inspect more than one row from the end of the file, you will have to use this instead, which requires reading the whole file:\n",
        "\n",
        "```python\n",
        "n = 2\n",
        "with open('data/earthquakes.csv', 'r') as file:\n",
        "    print('\\r'.join(file.readlines()[-n:]))\n",
        "```\n",
        "\n",
        "#### Column count\n",
        "We can use `awk` to find the column count. This is a utility for pattern scanning and processing. The `-F` flag allows us to specify the delimiter (comma, in this case). Then we specify what to do for each record in the file. We choose to print `NF` which is a predefined variable whose value is the number of fields in the current record. Here, we say `exit` so that we print the number of fields (columns, here) in the first row of the file, then we stop.\n",
        "\n",
        "This tells us we have 26 data columns:"
      ]
    },
    {
      "cell_type": "code",
      "execution_count": 18,
      "metadata": {
        "id": "FqSYSVcH_7oC",
        "outputId": "cc8cb3d0-1af9-4981-bbaa-bfdff491e1c9",
        "colab": {
          "base_uri": "https://localhost:8080/"
        }
      },
      "outputs": [
        {
          "output_type": "stream",
          "name": "stdout",
          "text": [
            "26\n"
          ]
        }
      ],
      "source": [
        "!awk -F',' '{print NF; exit}' data/earthquakes.csv #awk 명령어로 bigdata 다룰 때 좋음"
      ]
    },
    {
      "cell_type": "markdown",
      "metadata": {
        "id": "crdxQIdz_7oC"
      },
      "source": [
        "**Windows users**: if the above or below don't work for you (depends on your setup), then use this instead:\n",
        "\n",
        "```python\n",
        "with open('data/earthquakes.csv', 'r') as file:\n",
        "    print(len(file.readline().split(',')))\n",
        "```\n",
        "\n",
        "\n",
        "Since we know the 1st line of the file had headers, and the file is comma-separated, we can also count the columns by using `head` to get headers and parsing them in Python:"
      ]
    },
    {
      "cell_type": "code",
      "execution_count": 19,
      "metadata": {
        "id": "o3jEAea1_7oC",
        "outputId": "a9584397-82b3-4f23-92d7-524f34a3c3bf",
        "colab": {
          "base_uri": "https://localhost:8080/"
        }
      },
      "outputs": [
        {
          "output_type": "execute_result",
          "data": {
            "text/plain": [
              "26"
            ]
          },
          "metadata": {},
          "execution_count": 19
        }
      ],
      "source": [
        "headers = !head -n 1 data/earthquakes.csv\n",
        "len(headers[0].split(','))"
      ]
    },
    {
      "cell_type": "markdown",
      "metadata": {
        "id": "_wZQL883_7oD"
      },
      "source": [
        "**Windows users**: if you had to use the alternatives above, consider trying out [Cygwin](https://www.cygwin.com) or [Windows Subsystem for Linux (WSL)](https://docs.microsoft.com/en-us/windows/wsl/about).\n",
        "\n",
        "### Reading in the file\n",
        "Our file is small in size, has headers in the first row, and is comma-separated, so we don't need to provide any additional arguments to read in the file with `pd.read_csv()`, but be sure to check the [documentation](http://pandas.pydata.org/pandas-docs/stable/reference/api/pandas.read_csv.html) for possible arguments:"
      ]
    },
    {
      "cell_type": "code",
      "execution_count": 20,
      "metadata": {
        "id": "LL1EvznG_7oD"
      },
      "outputs": [],
      "source": [
        "df = pd.read_csv('data/earthquakes.csv')"
      ]
    },
    {
      "cell_type": "markdown",
      "metadata": {
        "id": "vnvfcDFD_7oD"
      },
      "source": [
        "Note that we can also pass in a URL. Let's read this same file from GitHub:"
      ]
    },
    {
      "cell_type": "code",
      "execution_count": 21,
      "metadata": {
        "id": "EyIeuEne_7oE"
      },
      "outputs": [],
      "source": [
        "df = pd.read_csv(\n",
        "    'https://github.com/stefmolin/'\n",
        "    'Hands-On-Data-Analysis-with-Pandas-2nd-edition'\n",
        "    '/blob/master/ch_02/data/earthquakes.csv?raw=True'\n",
        ")"
      ]
    },
    {
      "cell_type": "markdown",
      "metadata": {
        "id": "KlnXtGfm_7oE"
      },
      "source": [
        "Pandas is usually very good at figuring out which options to use based on the input data, so we often won't need to add arguments to the call; however, there are many options available should we need them, some of which include the following:\n",
        "\n",
        "| Parameter | Purpose |\n",
        "| --- | --- |\n",
        "| `sep` | Specifies the delimiter |\n",
        "| `header` | Row number where the column names are located; the default option has `pandas` infer whether they are present |\n",
        "| `names` | List of column names to use as the header |\n",
        "| `index_col` | Column to use as the index |\n",
        "| `usecols` | Specifies which columns to read in |\n",
        "| `dtype` | Specifies data types for the columns |\n",
        "| `converters` | Specifies functions for converting data in certain columns |\n",
        "| `skiprows` | Rows to skip |\n",
        "| `nrows` | Number of rows to read at a time (combine with `skiprows` to read a file bit by bit) |\n",
        "| `parse_dates` | Automatically parse columns containing dates into datetime objects |\n",
        "| `chunksize` | For reading the file in chunks |\n",
        "| `compression` | For reading in compressed files without extracting beforehand |\n",
        "| `encoding` | Specifies the file encoding |\n",
        "\n",
        "## Writing a `DataFrame` Object to a CSV File\n",
        "Note that the index of `df` is just row numbers, so we don't want to keep it. Therefore, we pass `index=False` to the `to_csv()` method:"
      ]
    },
    {
      "cell_type": "code",
      "execution_count": null,
      "metadata": {
        "id": "UCLSyDX2_7oE"
      },
      "outputs": [],
      "source": [
        "df.to_csv('output.csv', index=False)"
      ]
    },
    {
      "cell_type": "markdown",
      "metadata": {
        "id": "6YDwMAlO_7oE"
      },
      "source": [
        "## Writing a `DataFrame` Object to a Database\n",
        "Note the `if_exists` parameter. By default, it will give you an error if you try to write a table that already exists. Here, we don't care if it is overwritten. Lastly, if we are interested in appending new rows, we set that to `'append'`."
      ]
    },
    {
      "cell_type": "code",
      "execution_count": null,
      "metadata": {
        "id": "SUQlBalg_7oF"
      },
      "outputs": [],
      "source": [
        "import sqlite3\n",
        "\n",
        "with sqlite3.connect('data/quakes.db') as connection:\n",
        "    pd.read_csv('data/tsunamis.csv').to_sql(\n",
        "        'tsunamis', connection, index=False, if_exists='replace'\n",
        "    )"
      ]
    },
    {
      "cell_type": "markdown",
      "metadata": {
        "id": "cdnfp4TD_7oF"
      },
      "source": [
        "## Creating a `DataFrame` Object by Querying a Database\n",
        "Using a SQLite database. Otherwise you need to install [SQLAlchemy](https://www.sqlalchemy.org/)."
      ]
    },
    {
      "cell_type": "code",
      "execution_count": 22,
      "metadata": {
        "id": "uXt805e1_7oF",
        "outputId": "f5ff9404-d081-42ea-9451-2b7e6470b3e3",
        "colab": {
          "base_uri": "https://localhost:8080/",
          "height": 293
        }
      },
      "outputs": [
        {
          "output_type": "execute_result",
          "data": {
            "text/plain": [
              "   alert        type                                              title  \\\n",
              "0   None  earthquake  M 5.0 - 165km NNW of Flying Fish Cove, Christm...   \n",
              "1  green  earthquake            M 6.7 - 262km NW of Ozernovskiy, Russia   \n",
              "2  green  earthquake        M 5.6 - 128km SE of Kimbe, Papua New Guinea   \n",
              "3  green  earthquake         M 6.5 - 148km S of Severo-Kuril'sk, Russia   \n",
              "4  green  earthquake        M 6.2 - 94km SW of Kokopo, Papua New Guinea   \n",
              "\n",
              "                                             place magType  mag           time  \n",
              "0  165km NNW of Flying Fish Cove, Christmas Island     mww  5.0  1539459504090  \n",
              "1                  262km NW of Ozernovskiy, Russia     mww  6.7  1539429023560  \n",
              "2              128km SE of Kimbe, Papua New Guinea     mww  5.6  1539312723620  \n",
              "3               148km S of Severo-Kuril'sk, Russia     mww  6.5  1539213362130  \n",
              "4              94km SW of Kokopo, Papua New Guinea     mww  6.2  1539208835130  "
            ],
            "text/html": [
              "\n",
              "  <div id=\"df-96d5c40b-836e-4163-a3c4-9e3b1c159fec\" class=\"colab-df-container\">\n",
              "    <div>\n",
              "<style scoped>\n",
              "    .dataframe tbody tr th:only-of-type {\n",
              "        vertical-align: middle;\n",
              "    }\n",
              "\n",
              "    .dataframe tbody tr th {\n",
              "        vertical-align: top;\n",
              "    }\n",
              "\n",
              "    .dataframe thead th {\n",
              "        text-align: right;\n",
              "    }\n",
              "</style>\n",
              "<table border=\"1\" class=\"dataframe\">\n",
              "  <thead>\n",
              "    <tr style=\"text-align: right;\">\n",
              "      <th></th>\n",
              "      <th>alert</th>\n",
              "      <th>type</th>\n",
              "      <th>title</th>\n",
              "      <th>place</th>\n",
              "      <th>magType</th>\n",
              "      <th>mag</th>\n",
              "      <th>time</th>\n",
              "    </tr>\n",
              "  </thead>\n",
              "  <tbody>\n",
              "    <tr>\n",
              "      <th>0</th>\n",
              "      <td>None</td>\n",
              "      <td>earthquake</td>\n",
              "      <td>M 5.0 - 165km NNW of Flying Fish Cove, Christm...</td>\n",
              "      <td>165km NNW of Flying Fish Cove, Christmas Island</td>\n",
              "      <td>mww</td>\n",
              "      <td>5.0</td>\n",
              "      <td>1539459504090</td>\n",
              "    </tr>\n",
              "    <tr>\n",
              "      <th>1</th>\n",
              "      <td>green</td>\n",
              "      <td>earthquake</td>\n",
              "      <td>M 6.7 - 262km NW of Ozernovskiy, Russia</td>\n",
              "      <td>262km NW of Ozernovskiy, Russia</td>\n",
              "      <td>mww</td>\n",
              "      <td>6.7</td>\n",
              "      <td>1539429023560</td>\n",
              "    </tr>\n",
              "    <tr>\n",
              "      <th>2</th>\n",
              "      <td>green</td>\n",
              "      <td>earthquake</td>\n",
              "      <td>M 5.6 - 128km SE of Kimbe, Papua New Guinea</td>\n",
              "      <td>128km SE of Kimbe, Papua New Guinea</td>\n",
              "      <td>mww</td>\n",
              "      <td>5.6</td>\n",
              "      <td>1539312723620</td>\n",
              "    </tr>\n",
              "    <tr>\n",
              "      <th>3</th>\n",
              "      <td>green</td>\n",
              "      <td>earthquake</td>\n",
              "      <td>M 6.5 - 148km S of Severo-Kuril'sk, Russia</td>\n",
              "      <td>148km S of Severo-Kuril'sk, Russia</td>\n",
              "      <td>mww</td>\n",
              "      <td>6.5</td>\n",
              "      <td>1539213362130</td>\n",
              "    </tr>\n",
              "    <tr>\n",
              "      <th>4</th>\n",
              "      <td>green</td>\n",
              "      <td>earthquake</td>\n",
              "      <td>M 6.2 - 94km SW of Kokopo, Papua New Guinea</td>\n",
              "      <td>94km SW of Kokopo, Papua New Guinea</td>\n",
              "      <td>mww</td>\n",
              "      <td>6.2</td>\n",
              "      <td>1539208835130</td>\n",
              "    </tr>\n",
              "  </tbody>\n",
              "</table>\n",
              "</div>\n",
              "    <div class=\"colab-df-buttons\">\n",
              "\n",
              "  <div class=\"colab-df-container\">\n",
              "    <button class=\"colab-df-convert\" onclick=\"convertToInteractive('df-96d5c40b-836e-4163-a3c4-9e3b1c159fec')\"\n",
              "            title=\"Convert this dataframe to an interactive table.\"\n",
              "            style=\"display:none;\">\n",
              "\n",
              "  <svg xmlns=\"http://www.w3.org/2000/svg\" height=\"24px\" viewBox=\"0 -960 960 960\">\n",
              "    <path d=\"M120-120v-720h720v720H120Zm60-500h600v-160H180v160Zm220 220h160v-160H400v160Zm0 220h160v-160H400v160ZM180-400h160v-160H180v160Zm440 0h160v-160H620v160ZM180-180h160v-160H180v160Zm440 0h160v-160H620v160Z\"/>\n",
              "  </svg>\n",
              "    </button>\n",
              "\n",
              "  <style>\n",
              "    .colab-df-container {\n",
              "      display:flex;\n",
              "      gap: 12px;\n",
              "    }\n",
              "\n",
              "    .colab-df-convert {\n",
              "      background-color: #E8F0FE;\n",
              "      border: none;\n",
              "      border-radius: 50%;\n",
              "      cursor: pointer;\n",
              "      display: none;\n",
              "      fill: #1967D2;\n",
              "      height: 32px;\n",
              "      padding: 0 0 0 0;\n",
              "      width: 32px;\n",
              "    }\n",
              "\n",
              "    .colab-df-convert:hover {\n",
              "      background-color: #E2EBFA;\n",
              "      box-shadow: 0px 1px 2px rgba(60, 64, 67, 0.3), 0px 1px 3px 1px rgba(60, 64, 67, 0.15);\n",
              "      fill: #174EA6;\n",
              "    }\n",
              "\n",
              "    .colab-df-buttons div {\n",
              "      margin-bottom: 4px;\n",
              "    }\n",
              "\n",
              "    [theme=dark] .colab-df-convert {\n",
              "      background-color: #3B4455;\n",
              "      fill: #D2E3FC;\n",
              "    }\n",
              "\n",
              "    [theme=dark] .colab-df-convert:hover {\n",
              "      background-color: #434B5C;\n",
              "      box-shadow: 0px 1px 3px 1px rgba(0, 0, 0, 0.15);\n",
              "      filter: drop-shadow(0px 1px 2px rgba(0, 0, 0, 0.3));\n",
              "      fill: #FFFFFF;\n",
              "    }\n",
              "  </style>\n",
              "\n",
              "    <script>\n",
              "      const buttonEl =\n",
              "        document.querySelector('#df-96d5c40b-836e-4163-a3c4-9e3b1c159fec button.colab-df-convert');\n",
              "      buttonEl.style.display =\n",
              "        google.colab.kernel.accessAllowed ? 'block' : 'none';\n",
              "\n",
              "      async function convertToInteractive(key) {\n",
              "        const element = document.querySelector('#df-96d5c40b-836e-4163-a3c4-9e3b1c159fec');\n",
              "        const dataTable =\n",
              "          await google.colab.kernel.invokeFunction('convertToInteractive',\n",
              "                                                    [key], {});\n",
              "        if (!dataTable) return;\n",
              "\n",
              "        const docLinkHtml = 'Like what you see? Visit the ' +\n",
              "          '<a target=\"_blank\" href=https://colab.research.google.com/notebooks/data_table.ipynb>data table notebook</a>'\n",
              "          + ' to learn more about interactive tables.';\n",
              "        element.innerHTML = '';\n",
              "        dataTable['output_type'] = 'display_data';\n",
              "        await google.colab.output.renderOutput(dataTable, element);\n",
              "        const docLink = document.createElement('div');\n",
              "        docLink.innerHTML = docLinkHtml;\n",
              "        element.appendChild(docLink);\n",
              "      }\n",
              "    </script>\n",
              "  </div>\n",
              "\n",
              "\n",
              "<div id=\"df-484b9eb9-793d-4bde-82ce-eab186bde7d7\">\n",
              "  <button class=\"colab-df-quickchart\" onclick=\"quickchart('df-484b9eb9-793d-4bde-82ce-eab186bde7d7')\"\n",
              "            title=\"Suggest charts.\"\n",
              "            style=\"display:none;\">\n",
              "\n",
              "<svg xmlns=\"http://www.w3.org/2000/svg\" height=\"24px\"viewBox=\"0 0 24 24\"\n",
              "     width=\"24px\">\n",
              "    <g>\n",
              "        <path d=\"M19 3H5c-1.1 0-2 .9-2 2v14c0 1.1.9 2 2 2h14c1.1 0 2-.9 2-2V5c0-1.1-.9-2-2-2zM9 17H7v-7h2v7zm4 0h-2V7h2v10zm4 0h-2v-4h2v4z\"/>\n",
              "    </g>\n",
              "</svg>\n",
              "  </button>\n",
              "\n",
              "<style>\n",
              "  .colab-df-quickchart {\n",
              "      --bg-color: #E8F0FE;\n",
              "      --fill-color: #1967D2;\n",
              "      --hover-bg-color: #E2EBFA;\n",
              "      --hover-fill-color: #174EA6;\n",
              "      --disabled-fill-color: #AAA;\n",
              "      --disabled-bg-color: #DDD;\n",
              "  }\n",
              "\n",
              "  [theme=dark] .colab-df-quickchart {\n",
              "      --bg-color: #3B4455;\n",
              "      --fill-color: #D2E3FC;\n",
              "      --hover-bg-color: #434B5C;\n",
              "      --hover-fill-color: #FFFFFF;\n",
              "      --disabled-bg-color: #3B4455;\n",
              "      --disabled-fill-color: #666;\n",
              "  }\n",
              "\n",
              "  .colab-df-quickchart {\n",
              "    background-color: var(--bg-color);\n",
              "    border: none;\n",
              "    border-radius: 50%;\n",
              "    cursor: pointer;\n",
              "    display: none;\n",
              "    fill: var(--fill-color);\n",
              "    height: 32px;\n",
              "    padding: 0;\n",
              "    width: 32px;\n",
              "  }\n",
              "\n",
              "  .colab-df-quickchart:hover {\n",
              "    background-color: var(--hover-bg-color);\n",
              "    box-shadow: 0 1px 2px rgba(60, 64, 67, 0.3), 0 1px 3px 1px rgba(60, 64, 67, 0.15);\n",
              "    fill: var(--button-hover-fill-color);\n",
              "  }\n",
              "\n",
              "  .colab-df-quickchart-complete:disabled,\n",
              "  .colab-df-quickchart-complete:disabled:hover {\n",
              "    background-color: var(--disabled-bg-color);\n",
              "    fill: var(--disabled-fill-color);\n",
              "    box-shadow: none;\n",
              "  }\n",
              "\n",
              "  .colab-df-spinner {\n",
              "    border: 2px solid var(--fill-color);\n",
              "    border-color: transparent;\n",
              "    border-bottom-color: var(--fill-color);\n",
              "    animation:\n",
              "      spin 1s steps(1) infinite;\n",
              "  }\n",
              "\n",
              "  @keyframes spin {\n",
              "    0% {\n",
              "      border-color: transparent;\n",
              "      border-bottom-color: var(--fill-color);\n",
              "      border-left-color: var(--fill-color);\n",
              "    }\n",
              "    20% {\n",
              "      border-color: transparent;\n",
              "      border-left-color: var(--fill-color);\n",
              "      border-top-color: var(--fill-color);\n",
              "    }\n",
              "    30% {\n",
              "      border-color: transparent;\n",
              "      border-left-color: var(--fill-color);\n",
              "      border-top-color: var(--fill-color);\n",
              "      border-right-color: var(--fill-color);\n",
              "    }\n",
              "    40% {\n",
              "      border-color: transparent;\n",
              "      border-right-color: var(--fill-color);\n",
              "      border-top-color: var(--fill-color);\n",
              "    }\n",
              "    60% {\n",
              "      border-color: transparent;\n",
              "      border-right-color: var(--fill-color);\n",
              "    }\n",
              "    80% {\n",
              "      border-color: transparent;\n",
              "      border-right-color: var(--fill-color);\n",
              "      border-bottom-color: var(--fill-color);\n",
              "    }\n",
              "    90% {\n",
              "      border-color: transparent;\n",
              "      border-bottom-color: var(--fill-color);\n",
              "    }\n",
              "  }\n",
              "</style>\n",
              "\n",
              "  <script>\n",
              "    async function quickchart(key) {\n",
              "      const quickchartButtonEl =\n",
              "        document.querySelector('#' + key + ' button');\n",
              "      quickchartButtonEl.disabled = true;  // To prevent multiple clicks.\n",
              "      quickchartButtonEl.classList.add('colab-df-spinner');\n",
              "      try {\n",
              "        const charts = await google.colab.kernel.invokeFunction(\n",
              "            'suggestCharts', [key], {});\n",
              "      } catch (error) {\n",
              "        console.error('Error during call to suggestCharts:', error);\n",
              "      }\n",
              "      quickchartButtonEl.classList.remove('colab-df-spinner');\n",
              "      quickchartButtonEl.classList.add('colab-df-quickchart-complete');\n",
              "    }\n",
              "    (() => {\n",
              "      let quickchartButtonEl =\n",
              "        document.querySelector('#df-484b9eb9-793d-4bde-82ce-eab186bde7d7 button');\n",
              "      quickchartButtonEl.style.display =\n",
              "        google.colab.kernel.accessAllowed ? 'block' : 'none';\n",
              "    })();\n",
              "  </script>\n",
              "</div>\n",
              "    </div>\n",
              "  </div>\n"
            ]
          },
          "metadata": {},
          "execution_count": 22
        }
      ],
      "source": [
        "import sqlite3\n",
        "\n",
        "with sqlite3.connect('data/quakes.db') as connection:\n",
        "    tsunamis = pd.read_sql('SELECT * FROM tsunamis', connection)\n",
        "\n",
        "tsunamis.head()"
      ]
    },
    {
      "cell_type": "markdown",
      "metadata": {
        "id": "W-ocN3eI_7oR"
      },
      "source": [
        "<hr>\n",
        "<div>\n",
        "    <a href=\"./1-pandas_data_structures.ipynb\">\n",
        "        <button style=\"float: left;\">&#8592; Previous Notebook</button>\n",
        "    </a>\n",
        "    <a href=\"./3-making_dataframes_from_api_requests.ipynb\">\n",
        "        <button style=\"float: right;\">Next Notebook &#8594;</button>\n",
        "    </a>\n",
        "</div>\n",
        "<br>\n",
        "<hr>"
      ]
    }
  ],
  "metadata": {
    "kernelspec": {
      "display_name": "Python 3",
      "language": "python",
      "name": "python3"
    },
    "language_info": {
      "codemirror_mode": {
        "name": "ipython",
        "version": 3
      },
      "file_extension": ".py",
      "mimetype": "text/x-python",
      "name": "python",
      "nbconvert_exporter": "python",
      "pygments_lexer": "ipython3",
      "version": "3.7.3"
    },
    "colab": {
      "provenance": [],
      "include_colab_link": true
    }
  },
  "nbformat": 4,
  "nbformat_minor": 0
}